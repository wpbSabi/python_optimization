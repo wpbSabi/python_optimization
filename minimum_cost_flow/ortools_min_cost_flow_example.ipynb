{
 "cells": [
  {
   "cell_type": "markdown",
   "metadata": {},
   "source": [
    "Reference\n",
    "* https://developers.google.com/optimization/flow/assignment_min_cost_flow"
   ]
  },
  {
   "cell_type": "code",
   "execution_count": 1,
   "metadata": {
    "ExecuteTime": {
     "end_time": "2024-03-10T23:03:42.445351Z",
     "start_time": "2024-03-10T23:03:42.420558Z"
    }
   },
   "outputs": [
    {
     "name": "stdout",
     "output_type": "stream",
     "text": [
      "9.9.3963\n"
     ]
    }
   ],
   "source": [
    "# Install the latest version of ortools\n",
    "# python -m pip install --upgrade --user ortools\n",
    "import ortools\n",
    "print(ortools.__version__)"
   ]
  },
  {
   "cell_type": "code",
   "execution_count": 2,
   "metadata": {
    "ExecuteTime": {
     "end_time": "2024-03-10T23:03:42.653784Z",
     "start_time": "2024-03-10T23:03:42.453761Z"
    }
   },
   "outputs": [],
   "source": [
    "import numpy as np\n",
    "from ortools.graph.python import min_cost_flow"
   ]
  },
  {
   "cell_type": "code",
   "execution_count": 3,
   "metadata": {
    "ExecuteTime": {
     "end_time": "2024-03-10T23:03:42.663971Z",
     "start_time": "2024-03-10T23:03:42.657521Z"
    }
   },
   "outputs": [],
   "source": [
    "# Instantiate a SimpleMinCostFlow solver.\n",
    "smcf = min_cost_flow.SimpleMinCostFlow()"
   ]
  },
  {
   "cell_type": "code",
   "execution_count": 4,
   "metadata": {
    "ExecuteTime": {
     "end_time": "2024-03-10T23:03:42.686219Z",
     "start_time": "2024-03-10T23:03:42.669778Z"
    }
   },
   "outputs": [],
   "source": [
    "# Define the directed graph for the flow\n",
    "start_nodes = (\n",
    "    [0, 0] # 0 can go to 1 or 2\n",
    "    + [1, 1, 1, 1, 1, 2, 2, 2, 2, 2] # 1 or 2 can go to 3, 4, 5, 6, 7\n",
    "    + [3, 3, 3, 3, 3, 4, 5, 6, 7]\n",
    "    + [4, 5, 6, 7] # If 3 to X and then to 8\n",
    ")\n",
    "end_nodes = (\n",
    "    [1, 2] # 0 can go to 1 or 2\n",
    "    + [3, 4, 5, 6, 7, 3, 4, 5, 6, 7] # 1 or 2 can go to 3, 4, 5, 6, 7\n",
    "    + [4, 5, 6, 7, 8, 8, 8, 8, 8]\n",
    "    + [8, 8, 8, 8] # If 3 to X (4, 5, 6, or 7) and then to 8\n",
    ")\n",
    "# Capacities and costs on each route\n",
    "capacities = (\n",
    "    [1, 1]\n",
    "    + [1, 1, 1, 1, 1, 1, 1, 1, 1, 1]\n",
    "    + [1, 1, 1, 1, 1, 1, 1, 1, 1]\n",
    "    + [1, 1, 1, 1]\n",
    ")\n",
    "costs = ( \n",
    "    [1, 0] # Direct (2) actually skips node so no cost\n",
    "    + [1, 1, 1, 1, 1, 1, 1, 1, 1, 1] \n",
    "    + [1, 1, 1, 1, 1, 1, 1, 1, 1]\n",
    "    + [1, 1, 1, 1]\n",
    ")\n",
    "source = 0\n",
    "sink = 8\n",
    "tasks = 2\n",
    "supplies = [tasks, 0, 0, 0, 0, 0, 0, 0, -tasks]"
   ]
  },
  {
   "cell_type": "code",
   "execution_count": 5,
   "metadata": {
    "ExecuteTime": {
     "end_time": "2024-03-10T23:03:42.708637Z",
     "start_time": "2024-03-10T23:03:42.693470Z"
    }
   },
   "outputs": [],
   "source": [
    "# Add each arc.\n",
    "for i in range(len(start_nodes)):\n",
    "    smcf.add_arc_with_capacity_and_unit_cost(\n",
    "        start_nodes[i], end_nodes[i], capacities[i], costs[i]\n",
    "    )\n",
    "# Add node supplies.\n",
    "for i in range(len(supplies)):\n",
    "    smcf.set_node_supply(i, supplies[i])"
   ]
  },
  {
   "cell_type": "code",
   "execution_count": 6,
   "metadata": {
    "ExecuteTime": {
     "end_time": "2024-03-10T23:03:42.717883Z",
     "start_time": "2024-03-10T23:03:42.712969Z"
    }
   },
   "outputs": [],
   "source": [
    "# Find the min cost flow.\n",
    "status = smcf.solve()"
   ]
  },
  {
   "cell_type": "code",
   "execution_count": 7,
   "metadata": {
    "ExecuteTime": {
     "end_time": "2024-03-10T23:03:42.741775Z",
     "start_time": "2024-03-10T23:03:42.731899Z"
    }
   },
   "outputs": [
    {
     "name": "stdout",
     "output_type": "stream",
     "text": [
      "Total cost =  5\n",
      "\n",
      "Node 0 flows to node 1.  Cost = 1\n",
      "Node 0 flows to node 2.  Cost = 0\n",
      "Node 1 flows to node 6.  Cost = 1\n",
      "Node 2 flows to node 7.  Cost = 1\n",
      "Node 6 flows to node 8.  Cost = 1\n",
      "Node 7 flows to node 8.  Cost = 1\n"
     ]
    }
   ],
   "source": [
    "# %%time\n",
    "if status == smcf.OPTIMAL:\n",
    "    print(\"Total cost = \", smcf.optimal_cost())\n",
    "    print()\n",
    "    for arc in range(smcf.num_arcs()):\n",
    "        if smcf.flow(arc) > 0:\n",
    "            print(\n",
    "                \"Node %d flows to node %d.  Cost = %d\"\n",
    "                % (smcf.tail(arc), smcf.head(arc), smcf.unit_cost(arc))\n",
    "            )\n",
    "else:\n",
    "    print(\"There was an issue with the min cost flow input.\")\n",
    "    print(f\"Status: {status}\")"
   ]
  },
  {
   "cell_type": "code",
   "execution_count": null,
   "metadata": {},
   "outputs": [],
   "source": []
  }
 ],
 "metadata": {
  "kernelspec": {
   "display_name": "Python 3",
   "language": "python",
   "name": "python3"
  },
  "language_info": {
   "codemirror_mode": {
    "name": "ipython",
    "version": 3
   },
   "file_extension": ".py",
   "mimetype": "text/x-python",
   "name": "python",
   "nbconvert_exporter": "python",
   "pygments_lexer": "ipython3",
   "version": "3.8.3"
  },
  "toc": {
   "base_numbering": 1,
   "nav_menu": {},
   "number_sections": true,
   "sideBar": true,
   "skip_h1_title": false,
   "title_cell": "Table of Contents",
   "title_sidebar": "Contents",
   "toc_cell": false,
   "toc_position": {},
   "toc_section_display": true,
   "toc_window_display": false
  }
 },
 "nbformat": 4,
 "nbformat_minor": 5
}
