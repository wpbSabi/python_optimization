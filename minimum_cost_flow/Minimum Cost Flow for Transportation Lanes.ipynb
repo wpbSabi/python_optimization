{
 "cells": [
  {
   "cell_type": "markdown",
   "metadata": {},
   "source": [
    "# Basic Model for Supply Chain Transportation Lanes Using the Minimum Cost Flow Optimization Model\n",
    "\n",
    "Sabi Horvat, January 2021 - *Updated February 2021*\n",
    "\n",
    "What does this model do?  In summary, the model chooses transportation lanes from a number of options.  In practice, the data for these options is changing at least on a quarterly basis due to the following reasons.\n",
    "\n",
    "* Contracts with the suppliers that manufacture these products expire and require periodic renegotiation. \n",
    "* Transportation costs from third party logistics (3PLs) fluctuate depending on fuel prices and other costs, but also due to shifting demand and supply.  One example is when a truck delivers products to an area where there is not also product to load upon a return trip.  When the 3PL can't coordinate for the truck to be highly utilized, such as in this situation, the truck is being paid to \"deadhead\" back empty or at other times at less than a Full TruckLoad (FTL).  These cost differences account for the increase in price for the quote you receive, compared to other destinations.\n",
    "\n",
    "Additional python formulations of Minimum Cost Flow models can be found at: \n",
    "* [COIN-OR / PuLP (github) - American Steel Problem](https://github.com/coin-or/pulp/blob/master/examples/AmericanSteelProblem.py)\n",
    "* [github-alerera - MCNF Timespace Problem](https://github.com/alerera/logistics-opt-python/blob/master/pulp/mcnf_timespace.py)\n",
    "* [Gurobi-github - General Landing Page for Multiple Problems ](https://gurobi.github.io/modeling-examples/)\n",
    "\n",
    "---\n",
    "## Python Model"
   ]
  },
  {
   "cell_type": "code",
   "execution_count": 1,
   "metadata": {
    "ExecuteTime": {
     "end_time": "2024-03-03T19:20:13.774861Z",
     "start_time": "2024-03-03T19:20:13.212473Z"
    }
   },
   "outputs": [
    {
     "name": "stderr",
     "output_type": "stream",
     "text": [
      "/Users/alberta/anaconda3/lib/python3.8/site-packages/pandas/core/computation/expressions.py:20: UserWarning: Pandas requires version '2.7.3' or newer of 'numexpr' (version '2.7.2' currently installed).\n",
      "  from pandas.core.computation.check import NUMEXPR_INSTALLED\n"
     ]
    }
   ],
   "source": [
    "import pandas as pd\n",
    "from pulp import *"
   ]
  },
  {
   "cell_type": "markdown",
   "metadata": {},
   "source": [
    "## Data"
   ]
  },
  {
   "cell_type": "code",
   "execution_count": 2,
   "metadata": {
    "ExecuteTime": {
     "end_time": "2024-03-03T19:20:13.787458Z",
     "start_time": "2024-03-03T19:20:13.777931Z"
    }
   },
   "outputs": [],
   "source": [
    "# This data has been aggregated for period of time\n",
    "# The transportation lane will be effective for this projected demand, during that time\n",
    "\n",
    "# Data\n",
    "#  Suppliers at Portland, Oregon and Portland, Maine\n",
    "#  Customer Demand in Chicago, Seattle, Miami, Dallas, and San Diego\n",
    "\n",
    "locations = ['Portland,OR','Portland,ME','Chicago,IL','Seattle,WA',\n",
    "            'Miami,FL','Dallas,TX','SanDiego,CA']\n",
    "\n",
    "supply_and_demand = {'Portland,OR':[100,0],\n",
    "                     'Portland,ME':[100,0],\n",
    "                     'Chicago,IL' :[0,50],\n",
    "                     'Seattle,WA' :[0,40],\n",
    "                     'Miami,FL'   :[0,30],\n",
    "                     'Dallas,TX'  :[0,50],\n",
    "                     'SanDiego,CA':[0,30]}\n",
    "(supply, demand) = splitDict(supply_and_demand)\n",
    "\n",
    "route_arcs = [   ('Portland,OR','Portland,OR'),\n",
    "                 ('Portland,OR','Chicago,IL'),\n",
    "                 ('Portland,OR','Seattle,WA'),\n",
    "                 ('Portland,OR','Miami,FL'),\n",
    "                 ('Portland,OR','Dallas,TX'),\n",
    "                 ('Portland,OR','SanDiego,CA'),\n",
    "                 ('Portland,ME','Portland,ME'),\n",
    "                 ('Portland,ME','Chicago,IL'),\n",
    "                 ('Portland,ME','Seattle,WA'),\n",
    "                 ('Portland,ME','Miami,FL'),\n",
    "                 ('Portland,ME','Dallas,TX'),\n",
    "                 ('Portland,ME','SanDiego,CA'),\n",
    "                 ('Chicago,IL','Seattle,WA'),\n",
    "                 ('Chicago,IL','Miami,FL'),\n",
    "                 ('Chicago,IL','Dallas,TX'),\n",
    "                 ('Chicago,IL','SanDiego,CA')   ]\n",
    "\n",
    "# cost per unit (variable per unit, fixed for utilizing lane)\n",
    "route_cost = {   ('Portland,OR','Portland,OR'):[0,0],\n",
    "                 ('Portland,OR','Chicago,IL'): [0.5,0],\n",
    "                 ('Portland,OR','Seattle,WA'): [0.1,100],\n",
    "                 ('Portland,OR','Miami,FL'):   [0.9,100],\n",
    "                 ('Portland,OR','Dallas,TX'):  [0.5,100],\n",
    "                 ('Portland,OR','SanDiego,CA'):[0.2,100],\n",
    "                 ('Portland,ME','Portland,ME'):[0,0],\n",
    "                 ('Portland,ME','Chicago,IL'): [0.4,100],\n",
    "                 ('Portland,ME','Seattle,WA'): [0.9,100],\n",
    "                 ('Portland,ME','Miami,FL'):   [0.3,100],\n",
    "                 ('Portland,ME','Dallas,TX'):  [0.6,100],\n",
    "                 ('Portland,ME','SanDiego,CA'):[0.9,100],\n",
    "                 ('Chicago,IL','Seattle,WA'):  [0.5,0],\n",
    "                 ('Chicago,IL','Miami,FL'):    [0.2,0],\n",
    "                 ('Chicago,IL','Dallas,TX'):   [0.3,0],\n",
    "                 ('Chicago,IL','SanDiego,CA'): [0.5,0]   }\n",
    "(variable_costs, fixed_cost) = splitDict(route_cost)"
   ]
  },
  {
   "cell_type": "markdown",
   "metadata": {},
   "source": [
    "## Model"
   ]
  },
  {
   "cell_type": "code",
   "execution_count": 3,
   "metadata": {
    "ExecuteTime": {
     "end_time": "2024-03-03T19:20:13.812537Z",
     "start_time": "2024-03-03T19:20:13.794096Z"
    }
   },
   "outputs": [],
   "source": [
    "# Decision Variables\n",
    "flow = LpVariable.dicts(\"Route\",route_arcs,lowBound=0,upBound=100,cat=\"Integer\")\n",
    "\n",
    "# Model, to minimize the objective function\n",
    "model = LpProblem(\"Minimum_Cost_Flow_Problem_Sample\",LpMinimize)\n",
    "\n",
    "# Creates the objective function, product cost is not included in this simplified model\n",
    "model += lpSum([flow[a]* variable_costs[a] for a in route_arcs]), \"Transportation Cost \"\n",
    "\n",
    "# Constraint: Supply the demand\n",
    "for l in locations:\n",
    "    model += (supply[l]+ lpSum([flow[(i,j)] for (i,j) in route_arcs if j == l]) >=\n",
    "             demand[l]+ lpSum([flow[(i,j)] for (i,j) in route_arcs if i == l])), \"Flow %s\"%l\n"
   ]
  },
  {
   "cell_type": "markdown",
   "metadata": {},
   "source": [
    "## Results"
   ]
  },
  {
   "cell_type": "code",
   "execution_count": 4,
   "metadata": {
    "ExecuteTime": {
     "end_time": "2024-03-03T19:20:13.850149Z",
     "start_time": "2024-03-03T19:20:13.818120Z"
    }
   },
   "outputs": [
    {
     "name": "stdout",
     "output_type": "stream",
     "text": [
      "Status: Optimal\n",
      "\n",
      "Total Cost =  66.0\n"
     ]
    }
   ],
   "source": [
    "# Solve the model\n",
    "model.solve()\n",
    "\n",
    "# The status of the solution (Optimal, Infeasible, Unbounded, Not Solved, or Undefined)\n",
    "print(\"Status:\", LpStatus[model.status])\n",
    "\n",
    "# The objective solution\n",
    "# for v in model.variables():\n",
    "#     print(v.name, \"=\", v.varValue)\n",
    "\n",
    "# The optimal objective function value \n",
    "print(\"\\nTotal Cost = \", value(model.objective))"
   ]
  },
  {
   "cell_type": "code",
   "execution_count": 5,
   "metadata": {
    "ExecuteTime": {
     "end_time": "2024-03-03T19:20:13.899360Z",
     "start_time": "2024-03-03T19:20:13.853299Z"
    }
   },
   "outputs": [
    {
     "data": {
      "text/html": [
       "<div>\n",
       "<style scoped>\n",
       "    .dataframe tbody tr th:only-of-type {\n",
       "        vertical-align: middle;\n",
       "    }\n",
       "\n",
       "    .dataframe tbody tr th {\n",
       "        vertical-align: top;\n",
       "    }\n",
       "\n",
       "    .dataframe thead th {\n",
       "        text-align: right;\n",
       "    }\n",
       "</style>\n",
       "<table border=\"1\" class=\"dataframe\">\n",
       "  <thead>\n",
       "    <tr style=\"text-align: right;\">\n",
       "      <th></th>\n",
       "      <th>result_string</th>\n",
       "    </tr>\n",
       "  </thead>\n",
       "  <tbody>\n",
       "    <tr>\n",
       "      <th>0</th>\n",
       "      <td>Route_('Chicago,IL',_'Dallas,TX')</td>\n",
       "    </tr>\n",
       "    <tr>\n",
       "      <th>1</th>\n",
       "      <td>Route_('Chicago,IL',_'Miami,FL')</td>\n",
       "    </tr>\n",
       "    <tr>\n",
       "      <th>2</th>\n",
       "      <td>Route_('Chicago,IL',_'SanDiego,CA')</td>\n",
       "    </tr>\n",
       "    <tr>\n",
       "      <th>3</th>\n",
       "      <td>Route_('Chicago,IL',_'Seattle,WA')</td>\n",
       "    </tr>\n",
       "    <tr>\n",
       "      <th>4</th>\n",
       "      <td>Route_('Portland,ME',_'Chicago,IL')</td>\n",
       "    </tr>\n",
       "    <tr>\n",
       "      <th>5</th>\n",
       "      <td>Route_('Portland,ME',_'Dallas,TX')</td>\n",
       "    </tr>\n",
       "    <tr>\n",
       "      <th>6</th>\n",
       "      <td>Route_('Portland,ME',_'Miami,FL')</td>\n",
       "    </tr>\n",
       "    <tr>\n",
       "      <th>7</th>\n",
       "      <td>Route_('Portland,ME',_'Portland,ME')</td>\n",
       "    </tr>\n",
       "    <tr>\n",
       "      <th>8</th>\n",
       "      <td>Route_('Portland,ME',_'SanDiego,CA')</td>\n",
       "    </tr>\n",
       "    <tr>\n",
       "      <th>9</th>\n",
       "      <td>Route_('Portland,ME',_'Seattle,WA')</td>\n",
       "    </tr>\n",
       "    <tr>\n",
       "      <th>10</th>\n",
       "      <td>Route_('Portland,OR',_'Chicago,IL')</td>\n",
       "    </tr>\n",
       "    <tr>\n",
       "      <th>11</th>\n",
       "      <td>Route_('Portland,OR',_'Dallas,TX')</td>\n",
       "    </tr>\n",
       "    <tr>\n",
       "      <th>12</th>\n",
       "      <td>Route_('Portland,OR',_'Miami,FL')</td>\n",
       "    </tr>\n",
       "    <tr>\n",
       "      <th>13</th>\n",
       "      <td>Route_('Portland,OR',_'Portland,OR')</td>\n",
       "    </tr>\n",
       "    <tr>\n",
       "      <th>14</th>\n",
       "      <td>Route_('Portland,OR',_'SanDiego,CA')</td>\n",
       "    </tr>\n",
       "    <tr>\n",
       "      <th>15</th>\n",
       "      <td>Route_('Portland,OR',_'Seattle,WA')</td>\n",
       "    </tr>\n",
       "  </tbody>\n",
       "</table>\n",
       "</div>"
      ],
      "text/plain": [
       "                           result_string\n",
       "0      Route_('Chicago,IL',_'Dallas,TX')\n",
       "1       Route_('Chicago,IL',_'Miami,FL')\n",
       "2    Route_('Chicago,IL',_'SanDiego,CA')\n",
       "3     Route_('Chicago,IL',_'Seattle,WA')\n",
       "4    Route_('Portland,ME',_'Chicago,IL')\n",
       "5     Route_('Portland,ME',_'Dallas,TX')\n",
       "6      Route_('Portland,ME',_'Miami,FL')\n",
       "7   Route_('Portland,ME',_'Portland,ME')\n",
       "8   Route_('Portland,ME',_'SanDiego,CA')\n",
       "9    Route_('Portland,ME',_'Seattle,WA')\n",
       "10   Route_('Portland,OR',_'Chicago,IL')\n",
       "11    Route_('Portland,OR',_'Dallas,TX')\n",
       "12     Route_('Portland,OR',_'Miami,FL')\n",
       "13  Route_('Portland,OR',_'Portland,OR')\n",
       "14  Route_('Portland,OR',_'SanDiego,CA')\n",
       "15   Route_('Portland,OR',_'Seattle,WA')"
      ]
     },
     "execution_count": 5,
     "metadata": {},
     "output_type": "execute_result"
    }
   ],
   "source": [
    "# Objective Solution\n",
    "result_value = []\n",
    "for v in model.variables():\n",
    "    result_value.append(v.varValue)\n",
    "\n",
    "result_arc = []\n",
    "for v in model.variables():\n",
    "    result_arc.append(v.name)\n",
    "\n",
    "result_od = pd.DataFrame(result_arc, columns=['result_string'])\n",
    "result_od"
   ]
  },
  {
   "cell_type": "code",
   "execution_count": 6,
   "metadata": {
    "ExecuteTime": {
     "end_time": "2024-03-03T19:20:13.926895Z",
     "start_time": "2024-03-03T19:20:13.902129Z"
    }
   },
   "outputs": [
    {
     "data": {
      "text/html": [
       "<div>\n",
       "<style scoped>\n",
       "    .dataframe tbody tr th:only-of-type {\n",
       "        vertical-align: middle;\n",
       "    }\n",
       "\n",
       "    .dataframe tbody tr th {\n",
       "        vertical-align: top;\n",
       "    }\n",
       "\n",
       "    .dataframe thead th {\n",
       "        text-align: right;\n",
       "    }\n",
       "</style>\n",
       "<table border=\"1\" class=\"dataframe\">\n",
       "  <thead>\n",
       "    <tr style=\"text-align: right;\">\n",
       "      <th></th>\n",
       "      <th>origin</th>\n",
       "      <th>destination</th>\n",
       "      <th>flow</th>\n",
       "    </tr>\n",
       "  </thead>\n",
       "  <tbody>\n",
       "    <tr>\n",
       "      <th>4</th>\n",
       "      <td>PortlandME</td>\n",
       "      <td>ChicagoIL</td>\n",
       "      <td>50.0</td>\n",
       "    </tr>\n",
       "    <tr>\n",
       "      <th>5</th>\n",
       "      <td>PortlandME</td>\n",
       "      <td>DallasTX</td>\n",
       "      <td>20.0</td>\n",
       "    </tr>\n",
       "    <tr>\n",
       "      <th>6</th>\n",
       "      <td>PortlandME</td>\n",
       "      <td>MiamiFL</td>\n",
       "      <td>30.0</td>\n",
       "    </tr>\n",
       "    <tr>\n",
       "      <th>11</th>\n",
       "      <td>PortlandOR</td>\n",
       "      <td>DallasTX</td>\n",
       "      <td>30.0</td>\n",
       "    </tr>\n",
       "    <tr>\n",
       "      <th>14</th>\n",
       "      <td>PortlandOR</td>\n",
       "      <td>SanDiegoCA</td>\n",
       "      <td>30.0</td>\n",
       "    </tr>\n",
       "    <tr>\n",
       "      <th>15</th>\n",
       "      <td>PortlandOR</td>\n",
       "      <td>SeattleWA</td>\n",
       "      <td>40.0</td>\n",
       "    </tr>\n",
       "  </tbody>\n",
       "</table>\n",
       "</div>"
      ],
      "text/plain": [
       "        origin destination  flow\n",
       "4   PortlandME   ChicagoIL  50.0\n",
       "5   PortlandME    DallasTX  20.0\n",
       "6   PortlandME     MiamiFL  30.0\n",
       "11  PortlandOR    DallasTX  30.0\n",
       "14  PortlandOR  SanDiegoCA  30.0\n",
       "15  PortlandOR   SeattleWA  40.0"
      ]
     },
     "execution_count": 6,
     "metadata": {},
     "output_type": "execute_result"
    }
   ],
   "source": [
    "# Format columns \"origin\" and \"destination\"\n",
    "result_od['result_string'] = result_od['result_string'].str.replace('Route_','')\n",
    "result_od['origin'] = result_od['result_string'].str.split('_', expand=True)[0]\n",
    "result_od['destination'] = result_od['result_string'].str.split('_', expand=True)[1]\n",
    "result_od['origin'] = result_od['origin'].str.replace('[^\\w\\s]','', regex=True)\n",
    "result_od['destination'] = result_od['destination'].str.replace('[^\\w\\s]','', regex=True)\n",
    "result_od['flow'] = result_value\n",
    "result_od = result_od.drop(['result_string'], axis=1)[result_od['flow'] > 0]\n",
    "result_od"
   ]
  },
  {
   "cell_type": "code",
   "execution_count": 21,
   "metadata": {
    "ExecuteTime": {
     "end_time": "2024-03-03T19:22:28.669893Z",
     "start_time": "2024-03-03T19:22:28.650392Z"
    }
   },
   "outputs": [],
   "source": [
    "# Create a map with folium\n",
    "import folium\n",
    "center = (40,-95)\n",
    "m = folium.Map(location=center, \n",
    "#                width='50%', \n",
    "#                height='60%',\n",
    "               zoom_start=3, \n",
    "#                tiles='Stamen Toner'\n",
    "              )\n",
    "\n",
    "# Added tile options, as the three Stamen tiles aren't working on 3/3/24\n",
    "folium.TileLayer('OpenStreetMap').add_to(m)\n",
    "# folium.TileLayer('Stamen Terrain').add_to(m)\n",
    "# folium.TileLayer('Stamen Toner').add_to(m)\n",
    "# folium.TileLayer('Stamen Water Color').add_to(m)\n",
    "folium.TileLayer('CartoDB positron').add_to(m)\n",
    "folium.TileLayer('CartoDB dark_matter').add_to(m)\n",
    "folium.LayerControl().add_to(m)\n",
    "\n",
    "nodes = pd.DataFrame({ 'Location': ['PortlandME','PortlandOR','ChicagoIL',\n",
    "                                           'DallasTX','MiamiFL','SanDiegoCA','SeattleWA'],\n",
    "                            'Latitude': [43.7,45.5,41.8,32.8,25.8,32.9,47.6],\n",
    "                            'Longitude': [-70.3,-122.6,-87.7,-96.8,-80.2,-117.1,-122.3],\n",
    "                            'Inventory': [1,1,0,0,0,0,0]\n",
    "                            })\n",
    "supply = folium.FeatureGroup(Inventory = 1)\n",
    "demand_only = folium.FeatureGroup(Inventory = 0)\n",
    "df_supply = nodes[nodes['Inventory']==1]\n",
    "df_demand_only = nodes[nodes['Inventory']==0]"
   ]
  },
  {
   "cell_type": "code",
   "execution_count": 22,
   "metadata": {
    "ExecuteTime": {
     "end_time": "2024-03-03T19:22:29.048051Z",
     "start_time": "2024-03-03T19:22:29.038302Z"
    }
   },
   "outputs": [],
   "source": [
    "for i in range(len(df_supply)): folium.CircleMarker(\n",
    "    location=[df_supply.iloc[i]['Latitude'],\n",
    "              df_supply.iloc[i]['Longitude']],\n",
    "    color = 'green',\n",
    "    fill = True,\n",
    "    fill_opacity = 0.7,\n",
    "    radius=10,\n",
    "    ).add_to(m)\n",
    "for i in range(len(df_demand_only)): folium.CircleMarker(\n",
    "    location=[df_demand_only.iloc[i]['Latitude'],\n",
    "              df_demand_only.iloc[i]['Longitude']],\n",
    "    color = 'blue',\n",
    "    fill = True,\n",
    "    fill_opacity = 0.7,\n",
    "    radius=5,\n",
    "    ).add_to(m)"
   ]
  },
  {
   "cell_type": "code",
   "execution_count": 23,
   "metadata": {
    "ExecuteTime": {
     "end_time": "2024-03-03T19:22:29.501684Z",
     "start_time": "2024-03-03T19:22:29.480491Z"
    },
    "scrolled": true
   },
   "outputs": [
    {
     "data": {
      "text/html": [
       "<div>\n",
       "<style scoped>\n",
       "    .dataframe tbody tr th:only-of-type {\n",
       "        vertical-align: middle;\n",
       "    }\n",
       "\n",
       "    .dataframe tbody tr th {\n",
       "        vertical-align: top;\n",
       "    }\n",
       "\n",
       "    .dataframe thead th {\n",
       "        text-align: right;\n",
       "    }\n",
       "</style>\n",
       "<table border=\"1\" class=\"dataframe\">\n",
       "  <thead>\n",
       "    <tr style=\"text-align: right;\">\n",
       "      <th></th>\n",
       "      <th>origin</th>\n",
       "      <th>destination</th>\n",
       "      <th>flow</th>\n",
       "      <th>Origin Latitude</th>\n",
       "      <th>Origin Longitude</th>\n",
       "      <th>Destination Latitude</th>\n",
       "      <th>Destination Longitude</th>\n",
       "    </tr>\n",
       "  </thead>\n",
       "  <tbody>\n",
       "    <tr>\n",
       "      <th>0</th>\n",
       "      <td>PortlandME</td>\n",
       "      <td>ChicagoIL</td>\n",
       "      <td>50.0</td>\n",
       "      <td>43.7</td>\n",
       "      <td>-70.3</td>\n",
       "      <td>41.8</td>\n",
       "      <td>-87.7</td>\n",
       "    </tr>\n",
       "    <tr>\n",
       "      <th>1</th>\n",
       "      <td>PortlandME</td>\n",
       "      <td>DallasTX</td>\n",
       "      <td>20.0</td>\n",
       "      <td>43.7</td>\n",
       "      <td>-70.3</td>\n",
       "      <td>32.8</td>\n",
       "      <td>-96.8</td>\n",
       "    </tr>\n",
       "    <tr>\n",
       "      <th>2</th>\n",
       "      <td>PortlandOR</td>\n",
       "      <td>DallasTX</td>\n",
       "      <td>30.0</td>\n",
       "      <td>45.5</td>\n",
       "      <td>-122.6</td>\n",
       "      <td>32.8</td>\n",
       "      <td>-96.8</td>\n",
       "    </tr>\n",
       "    <tr>\n",
       "      <th>3</th>\n",
       "      <td>PortlandME</td>\n",
       "      <td>MiamiFL</td>\n",
       "      <td>30.0</td>\n",
       "      <td>43.7</td>\n",
       "      <td>-70.3</td>\n",
       "      <td>25.8</td>\n",
       "      <td>-80.2</td>\n",
       "    </tr>\n",
       "    <tr>\n",
       "      <th>4</th>\n",
       "      <td>PortlandOR</td>\n",
       "      <td>SanDiegoCA</td>\n",
       "      <td>30.0</td>\n",
       "      <td>45.5</td>\n",
       "      <td>-122.6</td>\n",
       "      <td>32.9</td>\n",
       "      <td>-117.1</td>\n",
       "    </tr>\n",
       "    <tr>\n",
       "      <th>5</th>\n",
       "      <td>PortlandOR</td>\n",
       "      <td>SeattleWA</td>\n",
       "      <td>40.0</td>\n",
       "      <td>45.5</td>\n",
       "      <td>-122.6</td>\n",
       "      <td>47.6</td>\n",
       "      <td>-122.3</td>\n",
       "    </tr>\n",
       "  </tbody>\n",
       "</table>\n",
       "</div>"
      ],
      "text/plain": [
       "       origin destination  flow  Origin Latitude  Origin Longitude  \\\n",
       "0  PortlandME   ChicagoIL  50.0             43.7             -70.3   \n",
       "1  PortlandME    DallasTX  20.0             43.7             -70.3   \n",
       "2  PortlandOR    DallasTX  30.0             45.5            -122.6   \n",
       "3  PortlandME     MiamiFL  30.0             43.7             -70.3   \n",
       "4  PortlandOR  SanDiegoCA  30.0             45.5            -122.6   \n",
       "5  PortlandOR   SeattleWA  40.0             45.5            -122.6   \n",
       "\n",
       "   Destination Latitude  Destination Longitude  \n",
       "0                  41.8                  -87.7  \n",
       "1                  32.8                  -96.8  \n",
       "2                  32.8                  -96.8  \n",
       "3                  25.8                  -80.2  \n",
       "4                  32.9                 -117.1  \n",
       "5                  47.6                 -122.3  "
      ]
     },
     "execution_count": 23,
     "metadata": {},
     "output_type": "execute_result"
    }
   ],
   "source": [
    "# merge nodes with result_od to get origin lat long and destination lat long\n",
    "add_lines = result_od.merge(nodes, left_on='origin',right_on='Location', how='inner') \n",
    "add_lines = add_lines.rename(columns={\"Latitude\": \"Origin Latitude\", \"Longitude\": \"Origin Longitude\"}).drop(['Location','Inventory'],axis=1)\n",
    "add_lines = add_lines.merge(nodes, left_on='destination',right_on='Location', how='inner') \n",
    "add_lines = add_lines.rename(columns={\"Latitude\": \"Destination Latitude\", \"Longitude\": \"Destination Longitude\"}).drop(['Location','Inventory'],axis=1)\n",
    "add_lines"
   ]
  },
  {
   "cell_type": "code",
   "execution_count": 24,
   "metadata": {
    "ExecuteTime": {
     "end_time": "2024-03-03T19:22:29.980653Z",
     "start_time": "2024-03-03T19:22:29.951001Z"
    }
   },
   "outputs": [
    {
     "data": {
      "text/html": [
       "<div style=\"width:100%;\"><div style=\"position:relative;width:100%;height:0;padding-bottom:60%;\"><span style=\"color:#565656\">Make this Notebook Trusted to load map: File -> Trust Notebook</span><iframe src=\"about:blank\" style=\"position:absolute;width:100%;height:100%;left:0;top:0;border:none !important;\" data-html=%3C%21DOCTYPE%20html%3E%0A%3Chead%3E%20%20%20%20%0A%20%20%20%20%3Cmeta%20http-equiv%3D%22content-type%22%20content%3D%22text/html%3B%20charset%3DUTF-8%22%20/%3E%0A%20%20%20%20%0A%20%20%20%20%20%20%20%20%3Cscript%3E%0A%20%20%20%20%20%20%20%20%20%20%20%20L_NO_TOUCH%20%3D%20false%3B%0A%20%20%20%20%20%20%20%20%20%20%20%20L_DISABLE_3D%20%3D%20false%3B%0A%20%20%20%20%20%20%20%20%3C/script%3E%0A%20%20%20%20%0A%20%20%20%20%3Cstyle%3Ehtml%2C%20body%20%7Bwidth%3A%20100%25%3Bheight%3A%20100%25%3Bmargin%3A%200%3Bpadding%3A%200%3B%7D%3C/style%3E%0A%20%20%20%20%3Cstyle%3E%23map%20%7Bposition%3Aabsolute%3Btop%3A0%3Bbottom%3A0%3Bright%3A0%3Bleft%3A0%3B%7D%3C/style%3E%0A%20%20%20%20%3Cscript%20src%3D%22https%3A//cdn.jsdelivr.net/npm/leaflet%401.6.0/dist/leaflet.js%22%3E%3C/script%3E%0A%20%20%20%20%3Cscript%20src%3D%22https%3A//code.jquery.com/jquery-1.12.4.min.js%22%3E%3C/script%3E%0A%20%20%20%20%3Cscript%20src%3D%22https%3A//maxcdn.bootstrapcdn.com/bootstrap/3.2.0/js/bootstrap.min.js%22%3E%3C/script%3E%0A%20%20%20%20%3Cscript%20src%3D%22https%3A//cdnjs.cloudflare.com/ajax/libs/Leaflet.awesome-markers/2.0.2/leaflet.awesome-markers.js%22%3E%3C/script%3E%0A%20%20%20%20%3Clink%20rel%3D%22stylesheet%22%20href%3D%22https%3A//cdn.jsdelivr.net/npm/leaflet%401.6.0/dist/leaflet.css%22/%3E%0A%20%20%20%20%3Clink%20rel%3D%22stylesheet%22%20href%3D%22https%3A//maxcdn.bootstrapcdn.com/bootstrap/3.2.0/css/bootstrap.min.css%22/%3E%0A%20%20%20%20%3Clink%20rel%3D%22stylesheet%22%20href%3D%22https%3A//maxcdn.bootstrapcdn.com/bootstrap/3.2.0/css/bootstrap-theme.min.css%22/%3E%0A%20%20%20%20%3Clink%20rel%3D%22stylesheet%22%20href%3D%22https%3A//maxcdn.bootstrapcdn.com/font-awesome/4.6.3/css/font-awesome.min.css%22/%3E%0A%20%20%20%20%3Clink%20rel%3D%22stylesheet%22%20href%3D%22https%3A//cdnjs.cloudflare.com/ajax/libs/Leaflet.awesome-markers/2.0.2/leaflet.awesome-markers.css%22/%3E%0A%20%20%20%20%3Clink%20rel%3D%22stylesheet%22%20href%3D%22https%3A//cdn.jsdelivr.net/gh/python-visualization/folium/folium/templates/leaflet.awesome.rotate.min.css%22/%3E%0A%20%20%20%20%0A%20%20%20%20%20%20%20%20%20%20%20%20%3Cmeta%20name%3D%22viewport%22%20content%3D%22width%3Ddevice-width%2C%0A%20%20%20%20%20%20%20%20%20%20%20%20%20%20%20%20initial-scale%3D1.0%2C%20maximum-scale%3D1.0%2C%20user-scalable%3Dno%22%20/%3E%0A%20%20%20%20%20%20%20%20%20%20%20%20%3Cstyle%3E%0A%20%20%20%20%20%20%20%20%20%20%20%20%20%20%20%20%23map_1936f69cad044dc286420e497bf3d265%20%7B%0A%20%20%20%20%20%20%20%20%20%20%20%20%20%20%20%20%20%20%20%20position%3A%20relative%3B%0A%20%20%20%20%20%20%20%20%20%20%20%20%20%20%20%20%20%20%20%20width%3A%20100.0%25%3B%0A%20%20%20%20%20%20%20%20%20%20%20%20%20%20%20%20%20%20%20%20height%3A%20100.0%25%3B%0A%20%20%20%20%20%20%20%20%20%20%20%20%20%20%20%20%20%20%20%20left%3A%200.0%25%3B%0A%20%20%20%20%20%20%20%20%20%20%20%20%20%20%20%20%20%20%20%20top%3A%200.0%25%3B%0A%20%20%20%20%20%20%20%20%20%20%20%20%20%20%20%20%7D%0A%20%20%20%20%20%20%20%20%20%20%20%20%3C/style%3E%0A%20%20%20%20%20%20%20%20%0A%3C/head%3E%0A%3Cbody%3E%20%20%20%20%0A%20%20%20%20%0A%20%20%20%20%20%20%20%20%20%20%20%20%3Cdiv%20class%3D%22folium-map%22%20id%3D%22map_1936f69cad044dc286420e497bf3d265%22%20%3E%3C/div%3E%0A%20%20%20%20%20%20%20%20%0A%3C/body%3E%0A%3Cscript%3E%20%20%20%20%0A%20%20%20%20%0A%20%20%20%20%20%20%20%20%20%20%20%20var%20map_1936f69cad044dc286420e497bf3d265%20%3D%20L.map%28%0A%20%20%20%20%20%20%20%20%20%20%20%20%20%20%20%20%22map_1936f69cad044dc286420e497bf3d265%22%2C%0A%20%20%20%20%20%20%20%20%20%20%20%20%20%20%20%20%7B%0A%20%20%20%20%20%20%20%20%20%20%20%20%20%20%20%20%20%20%20%20center%3A%20%5B40.0%2C%20-95.0%5D%2C%0A%20%20%20%20%20%20%20%20%20%20%20%20%20%20%20%20%20%20%20%20crs%3A%20L.CRS.EPSG3857%2C%0A%20%20%20%20%20%20%20%20%20%20%20%20%20%20%20%20%20%20%20%20zoom%3A%203%2C%0A%20%20%20%20%20%20%20%20%20%20%20%20%20%20%20%20%20%20%20%20zoomControl%3A%20true%2C%0A%20%20%20%20%20%20%20%20%20%20%20%20%20%20%20%20%20%20%20%20preferCanvas%3A%20false%2C%0A%20%20%20%20%20%20%20%20%20%20%20%20%20%20%20%20%7D%0A%20%20%20%20%20%20%20%20%20%20%20%20%29%3B%0A%0A%20%20%20%20%20%20%20%20%20%20%20%20%0A%0A%20%20%20%20%20%20%20%20%0A%20%20%20%20%0A%20%20%20%20%20%20%20%20%20%20%20%20var%20tile_layer_07878709a9bc403089ee7a611a194988%20%3D%20L.tileLayer%28%0A%20%20%20%20%20%20%20%20%20%20%20%20%20%20%20%20%22https%3A//%7Bs%7D.tile.openstreetmap.org/%7Bz%7D/%7Bx%7D/%7By%7D.png%22%2C%0A%20%20%20%20%20%20%20%20%20%20%20%20%20%20%20%20%7B%22attribution%22%3A%20%22Data%20by%20%5Cu0026copy%3B%20%5Cu003ca%20href%3D%5C%22http%3A//openstreetmap.org%5C%22%5Cu003eOpenStreetMap%5Cu003c/a%5Cu003e%2C%20under%20%5Cu003ca%20href%3D%5C%22http%3A//www.openstreetmap.org/copyright%5C%22%5Cu003eODbL%5Cu003c/a%5Cu003e.%22%2C%20%22detectRetina%22%3A%20false%2C%20%22maxNativeZoom%22%3A%2018%2C%20%22maxZoom%22%3A%2018%2C%20%22minZoom%22%3A%200%2C%20%22noWrap%22%3A%20false%2C%20%22opacity%22%3A%201%2C%20%22subdomains%22%3A%20%22abc%22%2C%20%22tms%22%3A%20false%7D%0A%20%20%20%20%20%20%20%20%20%20%20%20%29.addTo%28map_1936f69cad044dc286420e497bf3d265%29%3B%0A%20%20%20%20%20%20%20%20%0A%20%20%20%20%0A%20%20%20%20%20%20%20%20%20%20%20%20var%20tile_layer_bab19fb7abf44cea9947b13f77b3f2ec%20%3D%20L.tileLayer%28%0A%20%20%20%20%20%20%20%20%20%20%20%20%20%20%20%20%22https%3A//%7Bs%7D.tile.openstreetmap.org/%7Bz%7D/%7Bx%7D/%7By%7D.png%22%2C%0A%20%20%20%20%20%20%20%20%20%20%20%20%20%20%20%20%7B%22attribution%22%3A%20%22Data%20by%20%5Cu0026copy%3B%20%5Cu003ca%20href%3D%5C%22http%3A//openstreetmap.org%5C%22%5Cu003eOpenStreetMap%5Cu003c/a%5Cu003e%2C%20under%20%5Cu003ca%20href%3D%5C%22http%3A//www.openstreetmap.org/copyright%5C%22%5Cu003eODbL%5Cu003c/a%5Cu003e.%22%2C%20%22detectRetina%22%3A%20false%2C%20%22maxNativeZoom%22%3A%2018%2C%20%22maxZoom%22%3A%2018%2C%20%22minZoom%22%3A%200%2C%20%22noWrap%22%3A%20false%2C%20%22opacity%22%3A%201%2C%20%22subdomains%22%3A%20%22abc%22%2C%20%22tms%22%3A%20false%7D%0A%20%20%20%20%20%20%20%20%20%20%20%20%29.addTo%28map_1936f69cad044dc286420e497bf3d265%29%3B%0A%20%20%20%20%20%20%20%20%0A%20%20%20%20%0A%20%20%20%20%20%20%20%20%20%20%20%20var%20tile_layer_e7f5857e2eb74f478fd9cf14634fe843%20%3D%20L.tileLayer%28%0A%20%20%20%20%20%20%20%20%20%20%20%20%20%20%20%20%22https%3A//cartodb-basemaps-%7Bs%7D.global.ssl.fastly.net/light_all/%7Bz%7D/%7Bx%7D/%7By%7D.png%22%2C%0A%20%20%20%20%20%20%20%20%20%20%20%20%20%20%20%20%7B%22attribution%22%3A%20%22%5Cu0026copy%3B%20%5Cu003ca%20href%3D%5C%22http%3A//www.openstreetmap.org/copyright%5C%22%5Cu003eOpenStreetMap%5Cu003c/a%5Cu003e%20contributors%20%5Cu0026copy%3B%20%5Cu003ca%20href%3D%5C%22http%3A//cartodb.com/attributions%5C%22%5Cu003eCartoDB%5Cu003c/a%5Cu003e%2C%20CartoDB%20%5Cu003ca%20href%20%3D%5C%22http%3A//cartodb.com/attributions%5C%22%5Cu003eattributions%5Cu003c/a%5Cu003e%22%2C%20%22detectRetina%22%3A%20false%2C%20%22maxNativeZoom%22%3A%2018%2C%20%22maxZoom%22%3A%2018%2C%20%22minZoom%22%3A%200%2C%20%22noWrap%22%3A%20false%2C%20%22opacity%22%3A%201%2C%20%22subdomains%22%3A%20%22abc%22%2C%20%22tms%22%3A%20false%7D%0A%20%20%20%20%20%20%20%20%20%20%20%20%29.addTo%28map_1936f69cad044dc286420e497bf3d265%29%3B%0A%20%20%20%20%20%20%20%20%0A%20%20%20%20%0A%20%20%20%20%20%20%20%20%20%20%20%20var%20tile_layer_e2b27d069e5c4e7980ec396fc0abc569%20%3D%20L.tileLayer%28%0A%20%20%20%20%20%20%20%20%20%20%20%20%20%20%20%20%22https%3A//cartodb-basemaps-%7Bs%7D.global.ssl.fastly.net/dark_all/%7Bz%7D/%7Bx%7D/%7By%7D.png%22%2C%0A%20%20%20%20%20%20%20%20%20%20%20%20%20%20%20%20%7B%22attribution%22%3A%20%22%5Cu0026copy%3B%20%5Cu003ca%20href%3D%5C%22http%3A//www.openstreetmap.org/copyright%5C%22%5Cu003eOpenStreetMap%5Cu003c/a%5Cu003e%20contributors%20%5Cu0026copy%3B%20%5Cu003ca%20href%3D%5C%22http%3A//cartodb.com/attributions%5C%22%5Cu003eCartoDB%5Cu003c/a%5Cu003e%2C%20CartoDB%20%5Cu003ca%20href%20%3D%5C%22http%3A//cartodb.com/attributions%5C%22%5Cu003eattributions%5Cu003c/a%5Cu003e%22%2C%20%22detectRetina%22%3A%20false%2C%20%22maxNativeZoom%22%3A%2018%2C%20%22maxZoom%22%3A%2018%2C%20%22minZoom%22%3A%200%2C%20%22noWrap%22%3A%20false%2C%20%22opacity%22%3A%201%2C%20%22subdomains%22%3A%20%22abc%22%2C%20%22tms%22%3A%20false%7D%0A%20%20%20%20%20%20%20%20%20%20%20%20%29.addTo%28map_1936f69cad044dc286420e497bf3d265%29%3B%0A%20%20%20%20%20%20%20%20%0A%20%20%20%20%0A%20%20%20%20%20%20%20%20%20%20%20%20var%20layer_control_c7ff0770c3bd4b25969fa187a92082f1%20%3D%20%7B%0A%20%20%20%20%20%20%20%20%20%20%20%20%20%20%20%20base_layers%20%3A%20%7B%0A%20%20%20%20%20%20%20%20%20%20%20%20%20%20%20%20%20%20%20%20%22openstreetmap%22%20%3A%20tile_layer_bab19fb7abf44cea9947b13f77b3f2ec%2C%0A%20%20%20%20%20%20%20%20%20%20%20%20%20%20%20%20%20%20%20%20%22cartodbpositron%22%20%3A%20tile_layer_e7f5857e2eb74f478fd9cf14634fe843%2C%0A%20%20%20%20%20%20%20%20%20%20%20%20%20%20%20%20%20%20%20%20%22cartodbdark_matter%22%20%3A%20tile_layer_e2b27d069e5c4e7980ec396fc0abc569%2C%0A%20%20%20%20%20%20%20%20%20%20%20%20%20%20%20%20%7D%2C%0A%20%20%20%20%20%20%20%20%20%20%20%20%20%20%20%20overlays%20%3A%20%20%7B%0A%20%20%20%20%20%20%20%20%20%20%20%20%20%20%20%20%7D%2C%0A%20%20%20%20%20%20%20%20%20%20%20%20%7D%3B%0A%20%20%20%20%20%20%20%20%20%20%20%20L.control.layers%28%0A%20%20%20%20%20%20%20%20%20%20%20%20%20%20%20%20layer_control_c7ff0770c3bd4b25969fa187a92082f1.base_layers%2C%0A%20%20%20%20%20%20%20%20%20%20%20%20%20%20%20%20layer_control_c7ff0770c3bd4b25969fa187a92082f1.overlays%2C%0A%20%20%20%20%20%20%20%20%20%20%20%20%20%20%20%20%7B%22autoZIndex%22%3A%20true%2C%20%22collapsed%22%3A%20true%2C%20%22position%22%3A%20%22topright%22%7D%0A%20%20%20%20%20%20%20%20%20%20%20%20%29.addTo%28map_1936f69cad044dc286420e497bf3d265%29%3B%0A%20%20%20%20%20%20%20%20%20%20%20%20tile_layer_e7f5857e2eb74f478fd9cf14634fe843.remove%28%29%3B%0A%20%20%20%20%20%20%20%20%20%20%20%20tile_layer_e2b27d069e5c4e7980ec396fc0abc569.remove%28%29%3B%0A%20%20%20%20%20%20%20%20%0A%20%20%20%20%0A%20%20%20%20%20%20%20%20%20%20%20%20var%20circle_marker_276b6bdce2a44f4997e0e0bb3133241c%20%3D%20L.circleMarker%28%0A%20%20%20%20%20%20%20%20%20%20%20%20%20%20%20%20%5B43.7%2C%20-70.3%5D%2C%0A%20%20%20%20%20%20%20%20%20%20%20%20%20%20%20%20%7B%22bubblingMouseEvents%22%3A%20true%2C%20%22color%22%3A%20%22green%22%2C%20%22dashArray%22%3A%20null%2C%20%22dashOffset%22%3A%20null%2C%20%22fill%22%3A%20true%2C%20%22fillColor%22%3A%20%22green%22%2C%20%22fillOpacity%22%3A%200.7%2C%20%22fillRule%22%3A%20%22evenodd%22%2C%20%22lineCap%22%3A%20%22round%22%2C%20%22lineJoin%22%3A%20%22round%22%2C%20%22opacity%22%3A%201.0%2C%20%22radius%22%3A%2010%2C%20%22stroke%22%3A%20true%2C%20%22weight%22%3A%203%7D%0A%20%20%20%20%20%20%20%20%20%20%20%20%29.addTo%28map_1936f69cad044dc286420e497bf3d265%29%3B%0A%20%20%20%20%20%20%20%20%0A%20%20%20%20%0A%20%20%20%20%20%20%20%20%20%20%20%20var%20circle_marker_d815f3c285674a68b4e7c0c8aa0246f7%20%3D%20L.circleMarker%28%0A%20%20%20%20%20%20%20%20%20%20%20%20%20%20%20%20%5B45.5%2C%20-122.6%5D%2C%0A%20%20%20%20%20%20%20%20%20%20%20%20%20%20%20%20%7B%22bubblingMouseEvents%22%3A%20true%2C%20%22color%22%3A%20%22green%22%2C%20%22dashArray%22%3A%20null%2C%20%22dashOffset%22%3A%20null%2C%20%22fill%22%3A%20true%2C%20%22fillColor%22%3A%20%22green%22%2C%20%22fillOpacity%22%3A%200.7%2C%20%22fillRule%22%3A%20%22evenodd%22%2C%20%22lineCap%22%3A%20%22round%22%2C%20%22lineJoin%22%3A%20%22round%22%2C%20%22opacity%22%3A%201.0%2C%20%22radius%22%3A%2010%2C%20%22stroke%22%3A%20true%2C%20%22weight%22%3A%203%7D%0A%20%20%20%20%20%20%20%20%20%20%20%20%29.addTo%28map_1936f69cad044dc286420e497bf3d265%29%3B%0A%20%20%20%20%20%20%20%20%0A%20%20%20%20%0A%20%20%20%20%20%20%20%20%20%20%20%20var%20circle_marker_96cbf009e85c4d18a876e266867722dd%20%3D%20L.circleMarker%28%0A%20%20%20%20%20%20%20%20%20%20%20%20%20%20%20%20%5B41.8%2C%20-87.7%5D%2C%0A%20%20%20%20%20%20%20%20%20%20%20%20%20%20%20%20%7B%22bubblingMouseEvents%22%3A%20true%2C%20%22color%22%3A%20%22blue%22%2C%20%22dashArray%22%3A%20null%2C%20%22dashOffset%22%3A%20null%2C%20%22fill%22%3A%20true%2C%20%22fillColor%22%3A%20%22blue%22%2C%20%22fillOpacity%22%3A%200.7%2C%20%22fillRule%22%3A%20%22evenodd%22%2C%20%22lineCap%22%3A%20%22round%22%2C%20%22lineJoin%22%3A%20%22round%22%2C%20%22opacity%22%3A%201.0%2C%20%22radius%22%3A%205%2C%20%22stroke%22%3A%20true%2C%20%22weight%22%3A%203%7D%0A%20%20%20%20%20%20%20%20%20%20%20%20%29.addTo%28map_1936f69cad044dc286420e497bf3d265%29%3B%0A%20%20%20%20%20%20%20%20%0A%20%20%20%20%0A%20%20%20%20%20%20%20%20%20%20%20%20var%20circle_marker_95a91c1588564de685f2b0fc01f4dbbf%20%3D%20L.circleMarker%28%0A%20%20%20%20%20%20%20%20%20%20%20%20%20%20%20%20%5B32.8%2C%20-96.8%5D%2C%0A%20%20%20%20%20%20%20%20%20%20%20%20%20%20%20%20%7B%22bubblingMouseEvents%22%3A%20true%2C%20%22color%22%3A%20%22blue%22%2C%20%22dashArray%22%3A%20null%2C%20%22dashOffset%22%3A%20null%2C%20%22fill%22%3A%20true%2C%20%22fillColor%22%3A%20%22blue%22%2C%20%22fillOpacity%22%3A%200.7%2C%20%22fillRule%22%3A%20%22evenodd%22%2C%20%22lineCap%22%3A%20%22round%22%2C%20%22lineJoin%22%3A%20%22round%22%2C%20%22opacity%22%3A%201.0%2C%20%22radius%22%3A%205%2C%20%22stroke%22%3A%20true%2C%20%22weight%22%3A%203%7D%0A%20%20%20%20%20%20%20%20%20%20%20%20%29.addTo%28map_1936f69cad044dc286420e497bf3d265%29%3B%0A%20%20%20%20%20%20%20%20%0A%20%20%20%20%0A%20%20%20%20%20%20%20%20%20%20%20%20var%20circle_marker_e72a8b5c296746ab92ed63cd42662065%20%3D%20L.circleMarker%28%0A%20%20%20%20%20%20%20%20%20%20%20%20%20%20%20%20%5B25.8%2C%20-80.2%5D%2C%0A%20%20%20%20%20%20%20%20%20%20%20%20%20%20%20%20%7B%22bubblingMouseEvents%22%3A%20true%2C%20%22color%22%3A%20%22blue%22%2C%20%22dashArray%22%3A%20null%2C%20%22dashOffset%22%3A%20null%2C%20%22fill%22%3A%20true%2C%20%22fillColor%22%3A%20%22blue%22%2C%20%22fillOpacity%22%3A%200.7%2C%20%22fillRule%22%3A%20%22evenodd%22%2C%20%22lineCap%22%3A%20%22round%22%2C%20%22lineJoin%22%3A%20%22round%22%2C%20%22opacity%22%3A%201.0%2C%20%22radius%22%3A%205%2C%20%22stroke%22%3A%20true%2C%20%22weight%22%3A%203%7D%0A%20%20%20%20%20%20%20%20%20%20%20%20%29.addTo%28map_1936f69cad044dc286420e497bf3d265%29%3B%0A%20%20%20%20%20%20%20%20%0A%20%20%20%20%0A%20%20%20%20%20%20%20%20%20%20%20%20var%20circle_marker_717378fd5f524f2498a58149e80b95c1%20%3D%20L.circleMarker%28%0A%20%20%20%20%20%20%20%20%20%20%20%20%20%20%20%20%5B32.9%2C%20-117.1%5D%2C%0A%20%20%20%20%20%20%20%20%20%20%20%20%20%20%20%20%7B%22bubblingMouseEvents%22%3A%20true%2C%20%22color%22%3A%20%22blue%22%2C%20%22dashArray%22%3A%20null%2C%20%22dashOffset%22%3A%20null%2C%20%22fill%22%3A%20true%2C%20%22fillColor%22%3A%20%22blue%22%2C%20%22fillOpacity%22%3A%200.7%2C%20%22fillRule%22%3A%20%22evenodd%22%2C%20%22lineCap%22%3A%20%22round%22%2C%20%22lineJoin%22%3A%20%22round%22%2C%20%22opacity%22%3A%201.0%2C%20%22radius%22%3A%205%2C%20%22stroke%22%3A%20true%2C%20%22weight%22%3A%203%7D%0A%20%20%20%20%20%20%20%20%20%20%20%20%29.addTo%28map_1936f69cad044dc286420e497bf3d265%29%3B%0A%20%20%20%20%20%20%20%20%0A%20%20%20%20%0A%20%20%20%20%20%20%20%20%20%20%20%20var%20circle_marker_3e54c25bb4fd48fcb69bf405e814dfa8%20%3D%20L.circleMarker%28%0A%20%20%20%20%20%20%20%20%20%20%20%20%20%20%20%20%5B47.6%2C%20-122.3%5D%2C%0A%20%20%20%20%20%20%20%20%20%20%20%20%20%20%20%20%7B%22bubblingMouseEvents%22%3A%20true%2C%20%22color%22%3A%20%22blue%22%2C%20%22dashArray%22%3A%20null%2C%20%22dashOffset%22%3A%20null%2C%20%22fill%22%3A%20true%2C%20%22fillColor%22%3A%20%22blue%22%2C%20%22fillOpacity%22%3A%200.7%2C%20%22fillRule%22%3A%20%22evenodd%22%2C%20%22lineCap%22%3A%20%22round%22%2C%20%22lineJoin%22%3A%20%22round%22%2C%20%22opacity%22%3A%201.0%2C%20%22radius%22%3A%205%2C%20%22stroke%22%3A%20true%2C%20%22weight%22%3A%203%7D%0A%20%20%20%20%20%20%20%20%20%20%20%20%29.addTo%28map_1936f69cad044dc286420e497bf3d265%29%3B%0A%20%20%20%20%20%20%20%20%0A%20%20%20%20%0A%20%20%20%20%20%20%20%20%20%20%20%20var%20poly_line_d973d58548d3489992b11c585c55001d%20%3D%20L.polyline%28%0A%20%20%20%20%20%20%20%20%20%20%20%20%20%20%20%20%5B%5B43.7%2C%20-70.3%5D%2C%20%5B41.8%2C%20-87.7%5D%5D%2C%0A%20%20%20%20%20%20%20%20%20%20%20%20%20%20%20%20%7B%22bubblingMouseEvents%22%3A%20true%2C%20%22color%22%3A%20%22orange%22%2C%20%22dashArray%22%3A%20null%2C%20%22dashOffset%22%3A%20null%2C%20%22fill%22%3A%20false%2C%20%22fillColor%22%3A%20%22orange%22%2C%20%22fillOpacity%22%3A%200.2%2C%20%22fillRule%22%3A%20%22evenodd%22%2C%20%22lineCap%22%3A%20%22round%22%2C%20%22lineJoin%22%3A%20%22round%22%2C%20%22noClip%22%3A%20false%2C%20%22opacity%22%3A%201.0%2C%20%22smoothFactor%22%3A%201.0%2C%20%22stroke%22%3A%20true%2C%20%22weight%22%3A%203%7D%0A%20%20%20%20%20%20%20%20%20%20%20%20%29.addTo%28map_1936f69cad044dc286420e497bf3d265%29%3B%0A%20%20%20%20%20%20%20%20%0A%20%20%20%20%0A%20%20%20%20%20%20%20%20%20%20%20%20var%20poly_line_78947b9165c940638d6d2257b1b8d3ff%20%3D%20L.polyline%28%0A%20%20%20%20%20%20%20%20%20%20%20%20%20%20%20%20%5B%5B43.7%2C%20-70.3%5D%2C%20%5B32.8%2C%20-96.8%5D%5D%2C%0A%20%20%20%20%20%20%20%20%20%20%20%20%20%20%20%20%7B%22bubblingMouseEvents%22%3A%20true%2C%20%22color%22%3A%20%22orange%22%2C%20%22dashArray%22%3A%20null%2C%20%22dashOffset%22%3A%20null%2C%20%22fill%22%3A%20false%2C%20%22fillColor%22%3A%20%22orange%22%2C%20%22fillOpacity%22%3A%200.2%2C%20%22fillRule%22%3A%20%22evenodd%22%2C%20%22lineCap%22%3A%20%22round%22%2C%20%22lineJoin%22%3A%20%22round%22%2C%20%22noClip%22%3A%20false%2C%20%22opacity%22%3A%201.0%2C%20%22smoothFactor%22%3A%201.0%2C%20%22stroke%22%3A%20true%2C%20%22weight%22%3A%203%7D%0A%20%20%20%20%20%20%20%20%20%20%20%20%29.addTo%28map_1936f69cad044dc286420e497bf3d265%29%3B%0A%20%20%20%20%20%20%20%20%0A%20%20%20%20%0A%20%20%20%20%20%20%20%20%20%20%20%20var%20poly_line_99c4a05a606e42b28f0f354b767c64dc%20%3D%20L.polyline%28%0A%20%20%20%20%20%20%20%20%20%20%20%20%20%20%20%20%5B%5B45.5%2C%20-122.6%5D%2C%20%5B32.8%2C%20-96.8%5D%5D%2C%0A%20%20%20%20%20%20%20%20%20%20%20%20%20%20%20%20%7B%22bubblingMouseEvents%22%3A%20true%2C%20%22color%22%3A%20%22orange%22%2C%20%22dashArray%22%3A%20null%2C%20%22dashOffset%22%3A%20null%2C%20%22fill%22%3A%20false%2C%20%22fillColor%22%3A%20%22orange%22%2C%20%22fillOpacity%22%3A%200.2%2C%20%22fillRule%22%3A%20%22evenodd%22%2C%20%22lineCap%22%3A%20%22round%22%2C%20%22lineJoin%22%3A%20%22round%22%2C%20%22noClip%22%3A%20false%2C%20%22opacity%22%3A%201.0%2C%20%22smoothFactor%22%3A%201.0%2C%20%22stroke%22%3A%20true%2C%20%22weight%22%3A%203%7D%0A%20%20%20%20%20%20%20%20%20%20%20%20%29.addTo%28map_1936f69cad044dc286420e497bf3d265%29%3B%0A%20%20%20%20%20%20%20%20%0A%20%20%20%20%0A%20%20%20%20%20%20%20%20%20%20%20%20var%20poly_line_816e9b1d3af64aecb0a55e625a6435e0%20%3D%20L.polyline%28%0A%20%20%20%20%20%20%20%20%20%20%20%20%20%20%20%20%5B%5B43.7%2C%20-70.3%5D%2C%20%5B25.8%2C%20-80.2%5D%5D%2C%0A%20%20%20%20%20%20%20%20%20%20%20%20%20%20%20%20%7B%22bubblingMouseEvents%22%3A%20true%2C%20%22color%22%3A%20%22orange%22%2C%20%22dashArray%22%3A%20null%2C%20%22dashOffset%22%3A%20null%2C%20%22fill%22%3A%20false%2C%20%22fillColor%22%3A%20%22orange%22%2C%20%22fillOpacity%22%3A%200.2%2C%20%22fillRule%22%3A%20%22evenodd%22%2C%20%22lineCap%22%3A%20%22round%22%2C%20%22lineJoin%22%3A%20%22round%22%2C%20%22noClip%22%3A%20false%2C%20%22opacity%22%3A%201.0%2C%20%22smoothFactor%22%3A%201.0%2C%20%22stroke%22%3A%20true%2C%20%22weight%22%3A%203%7D%0A%20%20%20%20%20%20%20%20%20%20%20%20%29.addTo%28map_1936f69cad044dc286420e497bf3d265%29%3B%0A%20%20%20%20%20%20%20%20%0A%20%20%20%20%0A%20%20%20%20%20%20%20%20%20%20%20%20var%20poly_line_f2ac13cd59c4475582519adeaafd1237%20%3D%20L.polyline%28%0A%20%20%20%20%20%20%20%20%20%20%20%20%20%20%20%20%5B%5B45.5%2C%20-122.6%5D%2C%20%5B32.9%2C%20-117.1%5D%5D%2C%0A%20%20%20%20%20%20%20%20%20%20%20%20%20%20%20%20%7B%22bubblingMouseEvents%22%3A%20true%2C%20%22color%22%3A%20%22orange%22%2C%20%22dashArray%22%3A%20null%2C%20%22dashOffset%22%3A%20null%2C%20%22fill%22%3A%20false%2C%20%22fillColor%22%3A%20%22orange%22%2C%20%22fillOpacity%22%3A%200.2%2C%20%22fillRule%22%3A%20%22evenodd%22%2C%20%22lineCap%22%3A%20%22round%22%2C%20%22lineJoin%22%3A%20%22round%22%2C%20%22noClip%22%3A%20false%2C%20%22opacity%22%3A%201.0%2C%20%22smoothFactor%22%3A%201.0%2C%20%22stroke%22%3A%20true%2C%20%22weight%22%3A%203%7D%0A%20%20%20%20%20%20%20%20%20%20%20%20%29.addTo%28map_1936f69cad044dc286420e497bf3d265%29%3B%0A%20%20%20%20%20%20%20%20%0A%20%20%20%20%0A%20%20%20%20%20%20%20%20%20%20%20%20var%20poly_line_3da87c6a9a26431c819543029ec46bcf%20%3D%20L.polyline%28%0A%20%20%20%20%20%20%20%20%20%20%20%20%20%20%20%20%5B%5B45.5%2C%20-122.6%5D%2C%20%5B47.6%2C%20-122.3%5D%5D%2C%0A%20%20%20%20%20%20%20%20%20%20%20%20%20%20%20%20%7B%22bubblingMouseEvents%22%3A%20true%2C%20%22color%22%3A%20%22orange%22%2C%20%22dashArray%22%3A%20null%2C%20%22dashOffset%22%3A%20null%2C%20%22fill%22%3A%20false%2C%20%22fillColor%22%3A%20%22orange%22%2C%20%22fillOpacity%22%3A%200.2%2C%20%22fillRule%22%3A%20%22evenodd%22%2C%20%22lineCap%22%3A%20%22round%22%2C%20%22lineJoin%22%3A%20%22round%22%2C%20%22noClip%22%3A%20false%2C%20%22opacity%22%3A%201.0%2C%20%22smoothFactor%22%3A%201.0%2C%20%22stroke%22%3A%20true%2C%20%22weight%22%3A%203%7D%0A%20%20%20%20%20%20%20%20%20%20%20%20%29.addTo%28map_1936f69cad044dc286420e497bf3d265%29%3B%0A%20%20%20%20%20%20%20%20%0A%3C/script%3E onload=\"this.contentDocument.open();this.contentDocument.write(    decodeURIComponent(this.getAttribute('data-html')));this.contentDocument.close();\" allowfullscreen webkitallowfullscreen mozallowfullscreen></iframe></div></div>"
      ],
      "text/plain": [
       "<folium.folium.Map at 0x7fe113c1e790>"
      ]
     },
     "execution_count": 24,
     "metadata": {},
     "output_type": "execute_result"
    }
   ],
   "source": [
    "# loop on rows to create O-D pairs\n",
    "add_lines_df = pd.DataFrame()\n",
    "for i in range(0,len(add_lines)):\n",
    "    origin = pd.DataFrame((add_lines['Origin Latitude'][i],add_lines['Origin Longitude'][i]))\n",
    "    destination = (add_lines['Destination Latitude'][i],add_lines['Destination Longitude'][i])\n",
    "    od = [(add_lines['Origin Latitude'][i],add_lines['Origin Longitude'][i]),\n",
    "         (add_lines['Destination Latitude'][i],add_lines['Destination Longitude'][i])]\n",
    "    add_lines_df[i] = od\n",
    "    folium.PolyLine(add_lines_df[i], color='orange').add_to(m)\n",
    "m"
   ]
  },
  {
   "cell_type": "code",
   "execution_count": 25,
   "metadata": {
    "ExecuteTime": {
     "end_time": "2024-03-03T19:22:46.073835Z",
     "start_time": "2024-03-03T19:22:46.047509Z"
    }
   },
   "outputs": [],
   "source": [
    "m.save(\"folium_map.html\")"
   ]
  },
  {
   "cell_type": "code",
   "execution_count": 26,
   "metadata": {
    "ExecuteTime": {
     "end_time": "2024-03-03T19:22:47.223285Z",
     "start_time": "2024-03-03T19:22:47.215772Z"
    }
   },
   "outputs": [
    {
     "data": {
      "text/html": [
       "\n",
       "        <iframe\n",
       "            width=\"900\"\n",
       "            height=\"600\"\n",
       "            src=\"folium_map.html\"\n",
       "            frameborder=\"0\"\n",
       "            allowfullscreen\n",
       "        ></iframe>\n",
       "        "
      ],
      "text/plain": [
       "<IPython.lib.display.IFrame at 0x7fe113bb9310>"
      ]
     },
     "execution_count": 26,
     "metadata": {},
     "output_type": "execute_result"
    }
   ],
   "source": [
    "from IPython.display import IFrame\n",
    "IFrame(src='folium_map.html', width=900, height=600)"
   ]
  },
  {
   "cell_type": "code",
   "execution_count": null,
   "metadata": {},
   "outputs": [],
   "source": []
  }
 ],
 "metadata": {
  "kernelspec": {
   "display_name": "Python 3",
   "language": "python",
   "name": "python3"
  },
  "language_info": {
   "codemirror_mode": {
    "name": "ipython",
    "version": 3
   },
   "file_extension": ".py",
   "mimetype": "text/x-python",
   "name": "python",
   "nbconvert_exporter": "python",
   "pygments_lexer": "ipython3",
   "version": "3.8.3"
  },
  "toc": {
   "base_numbering": 1,
   "nav_menu": {},
   "number_sections": true,
   "sideBar": true,
   "skip_h1_title": false,
   "title_cell": "Table of Contents",
   "title_sidebar": "Contents",
   "toc_cell": false,
   "toc_position": {},
   "toc_section_display": true,
   "toc_window_display": false
  }
 },
 "nbformat": 4,
 "nbformat_minor": 2
}
