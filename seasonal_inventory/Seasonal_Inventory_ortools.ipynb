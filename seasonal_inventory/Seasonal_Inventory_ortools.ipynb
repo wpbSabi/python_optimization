{
 "cells": [
  {
   "cell_type": "markdown",
   "metadata": {},
   "source": [
    "# Model for Seasonal Inventory "
   ]
  },
  {
   "cell_type": "code",
   "execution_count": 1,
   "metadata": {
    "ExecuteTime": {
     "end_time": "2021-10-20T04:05:10.593403Z",
     "start_time": "2021-10-20T04:05:10.585290Z"
    }
   },
   "outputs": [],
   "source": [
    "# (If not already installed)\n",
    "# !pip install matplotlib\n",
    "# !pip install ortools\n",
    "# !pip install waterfallcharts"
   ]
  },
  {
   "cell_type": "code",
   "execution_count": 2,
   "metadata": {
    "ExecuteTime": {
     "end_time": "2021-10-20T04:05:12.618046Z",
     "start_time": "2021-10-20T04:05:10.603316Z"
    }
   },
   "outputs": [],
   "source": [
    "import pandas as pd\n",
    "import waterfall_chart\n",
    "from ortools.linear_solver import pywraplp"
   ]
  },
  {
   "cell_type": "code",
   "execution_count": 3,
   "metadata": {
    "ExecuteTime": {
     "end_time": "2021-10-20T04:05:12.629261Z",
     "start_time": "2021-10-20T04:05:12.622527Z"
    }
   },
   "outputs": [],
   "source": [
    "# Set time periods and initial inventory for one product\n",
    "MONTHS = {0: 'July 2021',\n",
    "          1: 'August 2021',\n",
    "          2: 'September 2021',\n",
    "          3: 'October 2021',\n",
    "          4: 'November 2021',\n",
    "          5: 'December 2021',\n",
    "          6: 'January 2022',\n",
    "          7: 'February 2022',\n",
    "          8: 'March 2022',\n",
    "          9: 'April 2022',\n",
    "          10: 'May 2022',\n",
    "          11: 'June 2022'}\n",
    "NUM_MONTHS = len(MONTHS)\n",
    "INITIAL_INVENTORY = 50\n",
    "\n",
    "# The capacity can vary by month depending on staffing levels, vacations, etc.\n",
    "MAX_CAPACITY = {0: 250,\n",
    "                1: 250,\n",
    "                2: 250,\n",
    "                3: 310,\n",
    "                4: 310,\n",
    "                5: 310,\n",
    "                6: 310,\n",
    "                7: 310,\n",
    "                8: 310,\n",
    "                9: 310,\n",
    "                10: 310,\n",
    "                11: 250} \n",
    "\n",
    "# The demand in time periods 4 and 5 exceeds the capacity available\n",
    "DEMAND = {0: 100,\n",
    "          1: 120,\n",
    "          2: 250,\n",
    "          3: 300,\n",
    "          4: 330,\n",
    "          5: 450,\n",
    "          6: 300,\n",
    "          7: 250,\n",
    "          8: 250,\n",
    "          9: 220,\n",
    "          10: 120,\n",
    "          11: 100}\n",
    "\n",
    "# Not accounting for overtime with capacity increase in this simplified model\n",
    "INVENTORY_HOLDING_COST = 1\n",
    "VARIABLE_COST = {0: 10,\n",
    "                 1: 10,\n",
    "                 2: 10,\n",
    "                 3: 10,\n",
    "                 4: 10,\n",
    "                 5: 10,\n",
    "                 6: 10,\n",
    "                 7: 10,\n",
    "                 8: 10,\n",
    "                 9: 10,\n",
    "                 10: 10,\n",
    "                 11: 10} "
   ]
  },
  {
   "cell_type": "markdown",
   "metadata": {},
   "source": [
    "## Google OR-Tools formulation"
   ]
  },
  {
   "cell_type": "code",
   "execution_count": 4,
   "metadata": {
    "ExecuteTime": {
     "end_time": "2021-10-20T04:05:12.659215Z",
     "start_time": "2021-10-20T04:05:12.644489Z"
    }
   },
   "outputs": [],
   "source": [
    "# Create the mip solver with the SCIP backend\n",
    "solver = pywraplp.Solver.CreateSolver('SCIP')"
   ]
  },
  {
   "cell_type": "markdown",
   "metadata": {},
   "source": [
    "### Declare Decision Variables"
   ]
  },
  {
   "cell_type": "code",
   "execution_count": 5,
   "metadata": {
    "ExecuteTime": {
     "end_time": "2021-10-20T04:05:12.679291Z",
     "start_time": "2021-10-20T04:05:12.662921Z"
    }
   },
   "outputs": [
    {
     "name": "stdout",
     "output_type": "stream",
     "text": [
      "Number of variables = 36\n"
     ]
    }
   ],
   "source": [
    "# p is the units p produced in each period\n",
    "p = {}\n",
    "for m in range(NUM_MONTHS):\n",
    "    p[m] = solver.IntVar(0, solver.infinity(), 'produced_inventory')\n",
    "    \n",
    "# b is the inventory at the beginning of each periond\n",
    "b = {}\n",
    "for m in range(NUM_MONTHS):\n",
    "    b[m] = solver.IntVar(0, solver.infinity(), 'beginning_inventory')\n",
    "\n",
    "# e is the inventory at the end of each period\n",
    "e = {}\n",
    "for m in range(NUM_MONTHS):\n",
    "    e[m] = solver.IntVar(0, solver.infinity(), 'ending_inventory')\n",
    "    \n",
    "print('Number of variables =', solver.NumVariables())"
   ]
  },
  {
   "cell_type": "markdown",
   "metadata": {},
   "source": [
    "### Add Constraints\n",
    "\\begin{equation}\n",
    "\\text{beginning inventory}_{m} = \\text{ending inventory}_{m+1} \\quad \\forall m > 0\\in \\text{months}\n",
    "\\end{equation}\n",
    "\n",
    "\\begin{equation}\n",
    "\\text{beginning inventory}_{m} + \\text{production}_{m} = \\text{demand}_{m} + \\text{ending inventory}_{m} \\quad \\forall m \\in \\text{months}\n",
    "\\end{equation}\n",
    "\n",
    "\\begin{equation}\n",
    "\\text{production}_{m} \\leq \\text{capacity}_{m} \\quad \\forall m \\in \\text{months}\n",
    "\\end{equation}\n",
    "\n",
    "\\begin{equation}\n",
    "\\text{ending inventory}_{m} \\geq \\text{50} \\quad \\forall m \\in \\text{months}\n",
    "\\end{equation}\n",
    "\n",
    "\\begin{equation}\n",
    "\\text{production}_{m} \\geq \\text{alpha} \\cdot \\text{production}_{m-1} \\quad \\forall m > 0\\in \\text{months}\n",
    "\\end{equation}\n",
    "\n",
    "\\begin{equation}\n",
    "\\text{production}_{m-1} \\geq \\text{alpha} \\cdot \\text{production}_{m} \\quad \\forall m > 0\\in \\text{months}\n",
    "\\end{equation}\n"
   ]
  },
  {
   "cell_type": "code",
   "execution_count": 6,
   "metadata": {
    "ExecuteTime": {
     "end_time": "2021-10-20T04:05:12.701527Z",
     "start_time": "2021-10-20T04:05:12.685922Z"
    }
   },
   "outputs": [
    {
     "name": "stdout",
     "output_type": "stream",
     "text": [
      "Number of constraints = 70\n"
     ]
    }
   ],
   "source": [
    "# Setup for the initial month\n",
    "solver.Add(b[0] == INITIAL_INVENTORY)\n",
    "solver.Add(b[0] + p[0] == DEMAND[0] + e[0])\n",
    "solver.Add(p[0] <= MAX_CAPACITY[0])\n",
    "solver.Add(e[0] >= 50)\n",
    "\n",
    "# Setup for subsequent months\n",
    "for m in range(1, NUM_MONTHS):\n",
    "    solver.Add(b[m] == e[m-1])\n",
    "    solver.Add(b[m] + p[m] == DEMAND[m] + e[m])\n",
    "    solver.Add(p[m] <= MAX_CAPACITY[m])\n",
    "    solver.Add(e[m] >= 50)\n",
    "    \n",
    "# production smoothing, lessens production changes from one period to the next \n",
    "alpha = 0.8\n",
    "for m in range(1, NUM_MONTHS):\n",
    "    solver.Add(p[m] >= alpha * p[m-1])\n",
    "    solver.Add(p[m-1] >= alpha * p[m])\n",
    "\n",
    "print('Number of constraints =', solver.NumConstraints())"
   ]
  },
  {
   "cell_type": "markdown",
   "metadata": {},
   "source": [
    "### Objective\n",
    "\\begin{equation}\n",
    "\\text{Min} \\quad Z = \\sum_{m \\in Months} {production cost}_{m} \\cdot \\text{production}_{m} + {storage cost}_{m} \\cdot \\text{average storage}_{m} \n",
    "\\end{equation}\n"
   ]
  },
  {
   "cell_type": "code",
   "execution_count": 7,
   "metadata": {
    "ExecuteTime": {
     "end_time": "2021-10-20T04:05:12.740331Z",
     "start_time": "2021-10-20T04:05:12.709700Z"
    }
   },
   "outputs": [],
   "source": [
    "# Calculate costs for the objective and run the solver\n",
    "total_variable_cost = []\n",
    "for v in VARIABLE_COST:\n",
    "    total_variable_cost.append(VARIABLE_COST[v]*p[v])\n",
    "sum_variable_cost = sum(total_variable_cost)\n",
    "\n",
    "inventory_holding_cost = []\n",
    "for m in MONTHS:\n",
    "    inventory_holding_cost.append(INVENTORY_HOLDING_COST*((e[m]+b[m])/2))\n",
    "sum_inventory_cost = sum(inventory_holding_cost)\n",
    "\n",
    "total_cost = sum_inventory_cost + sum_variable_cost"
   ]
  },
  {
   "cell_type": "markdown",
   "metadata": {},
   "source": [
    "### Solver"
   ]
  },
  {
   "cell_type": "code",
   "execution_count": 8,
   "metadata": {},
   "outputs": [
    {
     "name": "stdout",
     "output_type": "stream",
     "text": [
      "Help on method SetSolverSpecificParametersAsString in module ortools.linear_solver.pywraplp:\n",
      "\n",
      "SetSolverSpecificParametersAsString(parameters) method of ortools.linear_solver.pywraplp.Solver instance\n",
      "    Advanced usage: pass solver specific parameters in text format.\n",
      "    \n",
      "    The format is solver-specific and is the same as the corresponding solver\n",
      "    configuration file format. Returns true if the operation was successful.\n",
      "\n"
     ]
    }
   ],
   "source": [
    "help(solver.SetSolverSpecificParametersAsString)"
   ]
  },
  {
   "cell_type": "code",
   "execution_count": 9,
   "metadata": {},
   "outputs": [],
   "source": [
    "# Optional solver parameters\n",
    "# solver.SetSolverSpecificParametersAsString('limits/time = 60') # default 1e+20\n",
    "# solver.SetSolverSpecificParametersAsString('limits/gap = 0.001') # default = 0\n",
    "\n",
    "# Call the solver\n",
    "solver.Minimize(total_cost)"
   ]
  },
  {
   "cell_type": "code",
   "execution_count": 10,
   "metadata": {},
   "outputs": [
    {
     "name": "stdout",
     "output_type": "stream",
     "text": [
      "Total cost =  29812 \n",
      "\n",
      "Solver wall time =  187\n",
      "Problem solved in 114 iterations\n"
     ]
    }
   ],
   "source": [
    "# Print a summary of the solve\n",
    "status = solver.Solve()\n",
    "\n",
    "if status == pywraplp.Solver.OPTIMAL or status == pywraplp.Solver.FEASIBLE:\n",
    "    print('Total cost = ', round(solver.Objective().Value()), '\\n')\n",
    "    print('Solver wall time = ', solver.wall_time())\n",
    "    print(('Problem solved in %d iterations' % solver.iterations()))\n",
    "else:\n",
    "    print('There was not an optimal solution')"
   ]
  },
  {
   "cell_type": "code",
   "execution_count": 11,
   "metadata": {
    "ExecuteTime": {
     "end_time": "2021-10-20T04:05:12.929721Z",
     "start_time": "2021-10-20T04:05:12.744860Z"
    }
   },
   "outputs": [
    {
     "data": {
      "text/html": [
       "<div>\n",
       "<style scoped>\n",
       "    .dataframe tbody tr th:only-of-type {\n",
       "        vertical-align: middle;\n",
       "    }\n",
       "\n",
       "    .dataframe tbody tr th {\n",
       "        vertical-align: top;\n",
       "    }\n",
       "\n",
       "    .dataframe thead th {\n",
       "        text-align: right;\n",
       "    }\n",
       "</style>\n",
       "<table border=\"1\" class=\"dataframe\">\n",
       "  <thead>\n",
       "    <tr style=\"text-align: right;\">\n",
       "      <th></th>\n",
       "      <th>Month</th>\n",
       "      <th>Beginning</th>\n",
       "      <th>Produced</th>\n",
       "      <th>Demand</th>\n",
       "      <th>Ending</th>\n",
       "      <th>Capacity</th>\n",
       "      <th>Unutilized Capacity</th>\n",
       "    </tr>\n",
       "  </thead>\n",
       "  <tbody>\n",
       "    <tr>\n",
       "      <th>0</th>\n",
       "      <td>July 2021</td>\n",
       "      <td>50.0</td>\n",
       "      <td>165.0</td>\n",
       "      <td>100</td>\n",
       "      <td>115.0</td>\n",
       "      <td>250</td>\n",
       "      <td>-85.0</td>\n",
       "    </tr>\n",
       "    <tr>\n",
       "      <th>1</th>\n",
       "      <td>August 2021</td>\n",
       "      <td>115.0</td>\n",
       "      <td>205.0</td>\n",
       "      <td>120</td>\n",
       "      <td>200.0</td>\n",
       "      <td>250</td>\n",
       "      <td>-45.0</td>\n",
       "    </tr>\n",
       "    <tr>\n",
       "      <th>2</th>\n",
       "      <td>September 2021</td>\n",
       "      <td>200.0</td>\n",
       "      <td>250.0</td>\n",
       "      <td>250</td>\n",
       "      <td>200.0</td>\n",
       "      <td>250</td>\n",
       "      <td>0.0</td>\n",
       "    </tr>\n",
       "    <tr>\n",
       "      <th>3</th>\n",
       "      <td>October 2021</td>\n",
       "      <td>200.0</td>\n",
       "      <td>310.0</td>\n",
       "      <td>300</td>\n",
       "      <td>210.0</td>\n",
       "      <td>310</td>\n",
       "      <td>0.0</td>\n",
       "    </tr>\n",
       "    <tr>\n",
       "      <th>4</th>\n",
       "      <td>November 2021</td>\n",
       "      <td>210.0</td>\n",
       "      <td>310.0</td>\n",
       "      <td>330</td>\n",
       "      <td>190.0</td>\n",
       "      <td>310</td>\n",
       "      <td>0.0</td>\n",
       "    </tr>\n",
       "    <tr>\n",
       "      <th>5</th>\n",
       "      <td>December 2021</td>\n",
       "      <td>190.0</td>\n",
       "      <td>310.0</td>\n",
       "      <td>450</td>\n",
       "      <td>50.0</td>\n",
       "      <td>310</td>\n",
       "      <td>0.0</td>\n",
       "    </tr>\n",
       "    <tr>\n",
       "      <th>6</th>\n",
       "      <td>January 2022</td>\n",
       "      <td>50.0</td>\n",
       "      <td>309.0</td>\n",
       "      <td>300</td>\n",
       "      <td>59.0</td>\n",
       "      <td>310</td>\n",
       "      <td>-1.0</td>\n",
       "    </tr>\n",
       "    <tr>\n",
       "      <th>7</th>\n",
       "      <td>February 2022</td>\n",
       "      <td>59.0</td>\n",
       "      <td>291.0</td>\n",
       "      <td>250</td>\n",
       "      <td>100.0</td>\n",
       "      <td>310</td>\n",
       "      <td>-19.0</td>\n",
       "    </tr>\n",
       "    <tr>\n",
       "      <th>8</th>\n",
       "      <td>March 2022</td>\n",
       "      <td>100.0</td>\n",
       "      <td>233.0</td>\n",
       "      <td>250</td>\n",
       "      <td>83.0</td>\n",
       "      <td>310</td>\n",
       "      <td>-77.0</td>\n",
       "    </tr>\n",
       "    <tr>\n",
       "      <th>9</th>\n",
       "      <td>April 2022</td>\n",
       "      <td>83.0</td>\n",
       "      <td>187.0</td>\n",
       "      <td>220</td>\n",
       "      <td>50.0</td>\n",
       "      <td>310</td>\n",
       "      <td>-123.0</td>\n",
       "    </tr>\n",
       "    <tr>\n",
       "      <th>10</th>\n",
       "      <td>May 2022</td>\n",
       "      <td>50.0</td>\n",
       "      <td>150.0</td>\n",
       "      <td>120</td>\n",
       "      <td>80.0</td>\n",
       "      <td>310</td>\n",
       "      <td>-160.0</td>\n",
       "    </tr>\n",
       "    <tr>\n",
       "      <th>11</th>\n",
       "      <td>June 2022</td>\n",
       "      <td>80.0</td>\n",
       "      <td>120.0</td>\n",
       "      <td>100</td>\n",
       "      <td>100.0</td>\n",
       "      <td>250</td>\n",
       "      <td>-130.0</td>\n",
       "    </tr>\n",
       "  </tbody>\n",
       "</table>\n",
       "</div>"
      ],
      "text/plain": [
       "             Month  Beginning  Produced  Demand  Ending  Capacity  \\\n",
       "0        July 2021       50.0     165.0     100   115.0       250   \n",
       "1      August 2021      115.0     205.0     120   200.0       250   \n",
       "2   September 2021      200.0     250.0     250   200.0       250   \n",
       "3     October 2021      200.0     310.0     300   210.0       310   \n",
       "4    November 2021      210.0     310.0     330   190.0       310   \n",
       "5    December 2021      190.0     310.0     450    50.0       310   \n",
       "6     January 2022       50.0     309.0     300    59.0       310   \n",
       "7    February 2022       59.0     291.0     250   100.0       310   \n",
       "8       March 2022      100.0     233.0     250    83.0       310   \n",
       "9       April 2022       83.0     187.0     220    50.0       310   \n",
       "10        May 2022       50.0     150.0     120    80.0       310   \n",
       "11       June 2022       80.0     120.0     100   100.0       250   \n",
       "\n",
       "    Unutilized Capacity  \n",
       "0                 -85.0  \n",
       "1                 -45.0  \n",
       "2                   0.0  \n",
       "3                   0.0  \n",
       "4                   0.0  \n",
       "5                   0.0  \n",
       "6                  -1.0  \n",
       "7                 -19.0  \n",
       "8                 -77.0  \n",
       "9                -123.0  \n",
       "10               -160.0  \n",
       "11               -130.0  "
      ]
     },
     "execution_count": 11,
     "metadata": {},
     "output_type": "execute_result"
    }
   ],
   "source": [
    "inventory_results = pd.DataFrame(columns=['Month', \n",
    "                                          'Beginning', \n",
    "                                          'Produced', \n",
    "                                          'Demand', \n",
    "                                          'Ending', \n",
    "                                          'Capacity',\n",
    "                                          'Unutilized Capacity'])\n",
    "for a in b: \n",
    "    inventory_results.loc[a] = [MONTHS[a], \n",
    "                                b[a].solution_value(), \n",
    "                                p[a].solution_value(), \n",
    "                                DEMAND[a], \n",
    "                                e[a].solution_value(),\n",
    "                                MAX_CAPACITY[a],\n",
    "                                p[a].solution_value() - MAX_CAPACITY[a]]\n",
    "inventory_results"
   ]
  },
  {
   "cell_type": "code",
   "execution_count": 12,
   "metadata": {
    "ExecuteTime": {
     "end_time": "2021-10-20T04:05:14.355369Z",
     "start_time": "2021-10-20T04:05:12.938956Z"
    }
   },
   "outputs": [
    {
     "data": {
      "text/plain": [
       "<module 'matplotlib.pyplot' from '/Library/Frameworks/Python.framework/Versions/3.8/lib/python3.8/site-packages/matplotlib/pyplot.py'>"
      ]
     },
     "execution_count": 12,
     "metadata": {},
     "output_type": "execute_result"
    },
    {
     "data": {
      "image/png": "[encoded data removed]",
      "text/plain": [
       "<Figure size 640x480 with 1 Axes>"
      ]
     },
     "metadata": {},
     "output_type": "display_data"
    }
   ],
   "source": [
    "# For the waterfall chart, [indices], [deltas]\n",
    "waterfall_chart.plot(['July 2021 b', 'July 2021 p', 'July 2021 d',\n",
    "                      'August 2021 p', 'August 2021 d',\n",
    "                      'September 2021 p', 'September 2021 d',\n",
    "                      'October 2021 p', 'October 2021 d',\n",
    "                      'November 2021 p', 'November 2021 d',\n",
    "                      'December 2021 p', 'December 2021 d'],\n",
    "                     [50, 165, -100,\n",
    "                          205, -120,\n",
    "                          250, -250,\n",
    "                          310, -330,\n",
    "                          310, -330,\n",
    "                          310, -450\n",
    "                     ])"
   ]
  },
  {
   "cell_type": "markdown",
   "metadata": {},
   "source": [
    "### The solution makes sense\n",
    "The minimum cost of production for the predicted demand is 27,400 = (sum(DEMAND.values()) - INITIAL_INVENTORY) * 10.  However, additional constraints such as minimal inventory levels, production smoothing, and inventory holding cost result in a higher cost."
   ]
  },
  {
   "cell_type": "markdown",
   "metadata": {},
   "source": [
    "### Model Limitations\n",
    "1. The validity of the model is only to model prior and up to the peak demand\n",
    "    * The data used in the model was designed to help understand how much seasonal inventory to build before the busy season (in this case from September to March).\n",
    "    * As you can see, the results wound down inventory to ZERO at the end of the data supplied.\n",
    "    * Since the model is not intended to be used to model production beyond the seasonal inventory preparation until the peak in December, when sharing the results I would suggest to share only those results through December.\n",
    "2. The model does not include the possibility of increasing capacity through overtime, although the variable cost structure is intended to ease the transition for such scenarios.\n",
    "3. The model does not take into account the cost of storing inventory.  The main cost included is the cost of producing inventory.\n",
    "4. The model does not take into account the uncertainty of demand.  \n",
    "5. The model does not take into account inventory capacity, throughput capacity, or loading dock capacity.  This model only takes into account production capacity."
   ]
  },
  {
   "cell_type": "code",
   "execution_count": null,
   "metadata": {},
   "outputs": [],
   "source": []
  }
 ],
 "metadata": {
  "kernelspec": {
   "display_name": "Python 3 (ipykernel)",
   "language": "python",
   "name": "python3"
  },
  "language_info": {
   "codemirror_mode": {
    "name": "ipython",
    "version": 3
   },
   "file_extension": ".py",
   "mimetype": "text/x-python",
   "name": "python",
   "nbconvert_exporter": "python",
   "pygments_lexer": "ipython3",
   "version": "3.8.5"
  },
  "toc": {
   "base_numbering": 1,
   "nav_menu": {},
   "number_sections": true,
   "sideBar": true,
   "skip_h1_title": false,
   "title_cell": "Table of Contents",
   "title_sidebar": "Contents",
   "toc_cell": false,
   "toc_position": {},
   "toc_section_display": true,
   "toc_window_display": false
  }
 },
 "nbformat": 4,
 "nbformat_minor": 4
}
