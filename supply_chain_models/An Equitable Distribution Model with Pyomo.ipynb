{
 "cells": [
  {
   "cell_type": "markdown",
   "metadata": {},
   "source": [
    "## Optimization with Python - An Equitable Distribution Model\n",
    "2020 February, Sabi Horvat @tourofdata\n",
    "https://github.com/wpbSabi/supply_chain_models\n",
    "\n",
    "This simple example of an equitable distribution model can be expanded for situations where demand exceeds the supply.  Therefore, all supply would be sent, with some requirements and decisions on where to send the supply.\n",
    "\n",
    "This model utilizes pyomo, rather than PuLP, as pyomo can be expanded for non-linear problems. \n",
    "> If the criteria would be allocate supply based on quantities, those constraints would likely remain linear.\n",
    "> However, if the criteria would utilize a function such as the distance formula to minimize transportation costs, then the model would be non-linear.  There are ways to \"linearize\" such formulations by providing the cost of transportation lanes rather than the specific distances, but this simplification may not be applicable for all models."
   ]
  },
  {
   "cell_type": "code",
   "execution_count": 1,
   "metadata": {},
   "outputs": [],
   "source": [
    "from pyomo.environ import * \n",
    "from pyomo.opt import SolverFactory"
   ]
  },
  {
   "cell_type": "code",
   "execution_count": 2,
   "metadata": {},
   "outputs": [],
   "source": [
    "origin_nodes = [0,1,2,3]\n",
    "destination_nodes = [0,1,2,3,4,5,6]\n",
    "supply_at_origin = [16765,93590,419425,39200]"
   ]
  },
  {
   "cell_type": "code",
   "execution_count": 3,
   "metadata": {},
   "outputs": [],
   "source": [
    "# model\n",
    "model = ConcreteModel()\n",
    "\n",
    "# decision variable - amount allocated from supply_node to demand_node\n",
    "model.x = Var(((i,j) for i in origin_nodes for j in destination_nodes),\n",
    "              within=NonNegativeReals,\n",
    "              initialize=0) "
   ]
  },
  {
   "cell_type": "code",
   "execution_count": 4,
   "metadata": {},
   "outputs": [],
   "source": [
    "# objective function: maximize distribution\n",
    "def obj_rule(m):\n",
    "#    sum(m.x[i,j] for i in supply_nodes for j in demand_nodes)\n",
    "    return sum(m.x[i,j] for i in origin_nodes for j in destination_nodes)\n",
    "model.objective_to_max = Objective(rule=obj_rule, sense=maximize)"
   ]
  },
  {
   "cell_type": "code",
   "execution_count": 5,
   "metadata": {},
   "outputs": [],
   "source": [
    "# Create a set of constraints\n",
    "model.constraints = ConstraintList()  \n",
    "\n",
    "# send at least 10 units of supply to each demand node\n",
    "for j in destination_nodes:\n",
    "    model.constraints.add(\n",
    "        sum(model.x[i,j] for i in origin_nodes) >= 10\n",
    "    )\n",
    "    \n",
    "# capacity is limited by supply \n",
    "for i in origin_nodes:\n",
    "    model.constraints.add(\n",
    "        sum(model.x[i,j] for j in destination_nodes) <= supply_at_origin[i]\n",
    "    )"
   ]
  },
  {
   "cell_type": "code",
   "execution_count": 6,
   "metadata": {},
   "outputs": [
    {
     "name": "stdout",
     "output_type": "stream",
     "text": [
      "Optimal solution found\n"
     ]
    }
   ],
   "source": [
    "opt = SolverFactory('ipopt')  # choose a solver\n",
    "results = opt.solve(model)  # solve the model with the selected solver\n",
    "\n",
    "# print model status\n",
    "if (results.solver.status == SolverStatus.ok) and (results.solver.termination_condition == TerminationCondition.optimal):\n",
    "    print(\"Optimal solution found\")\n",
    "elif (results.solver.termination_condition == TerminationCondition.infeasible):\n",
    "    print(\"Infeasible\")\n",
    "else:\n",
    "    print(\"Solver Status: \",  result.solver.status)"
   ]
  },
  {
   "cell_type": "code",
   "execution_count": 7,
   "metadata": {},
   "outputs": [
    {
     "name": "stdout",
     "output_type": "stream",
     "text": [
      "Total supply sent: \n",
      "****************************************\n",
      "568980.0056897899\n",
      "\n",
      "\n",
      "(Origin Node, Destination Node): Supply sent from Origin to Destination\n",
      "****************************************\n",
      "    (0, 0) 2395.0000239536475\n",
      "    (0, 1) 2395.0000239532765\n",
      "    (0, 2) 2395.000023942208\n",
      "    (0, 3) 2395.0000239576434\n",
      "    (0, 4) 2395.0000239570286\n",
      "    (0, 5) 2395.0000239427086\n",
      "    (0, 6) 2395.0000239409824\n",
      "    (1, 0) 13370.00013391205\n",
      "    (1, 1) 13370.000133909285\n",
      "    (1, 2) 13370.000133428608\n",
      "    (1, 3) 13370.000133910979\n",
      "    (1, 4) 13370.00013389932\n",
      "    (1, 5) 13370.000133436093\n",
      "    (1, 6) 13370.000133401161\n",
      "    (2, 0) 59917.85774691055\n",
      "    (2, 1) 59917.857747147435\n",
      "    (2, 2) 59917.85773560562\n",
      "    (2, 3) 59917.857745967114\n",
      "    (2, 4) 59917.8577465219\n",
      "    (2, 5) 59917.857735494574\n",
      "    (2, 6) 59917.857736600236\n",
      "    (3, 0) 5600.000056036892\n",
      "    (3, 1) 5600.000056035577\n",
      "    (3, 2) 5600.000055953751\n",
      "    (3, 3) 5600.000056036262\n",
      "    (3, 4) 5600.000056033091\n",
      "    (3, 5) 5600.0000559547725\n",
      "    (3, 6) 5600.000055947147\n",
      "\n",
      "\n",
      "Supply received by Destination\n",
      "****************************************\n",
      "Destination  0  :  81282.85796081314\n",
      "Destination  1  :  81282.85796104558\n",
      "Destination  2  :  81282.85794893018\n",
      "Destination  3  :  81282.85795987201\n",
      "Destination  4  :  81282.85796041135\n",
      "Destination  5  :  81282.85794882815\n",
      "Destination  6  :  81282.85794988953\n"
     ]
    }
   ],
   "source": [
    "# format results\n",
    "print('Total supply sent: ')\n",
    "print('*'*40)\n",
    "print(model.objective_to_max())\n",
    "\n",
    "for v in model.component_objects(Var, active=True):\n",
    "    print('\\n\\n(Origin Node, Destination Node): Supply sent from Origin to Destination')\n",
    "    print('*'*40)\n",
    "    varobject = getattr(model, str(v))\n",
    "    for index in varobject:\n",
    "        print (\"   \",index, varobject[index].value)\n",
    "        \n",
    "print('\\n\\nSupply received by Destination')\n",
    "print('*'*40)\n",
    "for d in destination_nodes:\n",
    "    print('Destination ',d, ' : ', sum(varobject[(o,d)].value for o in origin_nodes))"
   ]
  },
  {
   "cell_type": "code",
   "execution_count": 8,
   "metadata": {},
   "outputs": [
    {
     "name": "stdout",
     "output_type": "stream",
     "text": [
      "# ==========================================================\n",
      "# = Solver Results                                         =\n",
      "# ==========================================================\n",
      "# ----------------------------------------------------------\n",
      "#   Problem Information\n",
      "# ----------------------------------------------------------\n",
      "Problem: \n",
      "- Lower bound: -inf\n",
      "  Upper bound: inf\n",
      "  Number of objectives: 1\n",
      "  Number of constraints: 11\n",
      "  Number of variables: 28\n",
      "  Sense: unknown\n",
      "# ----------------------------------------------------------\n",
      "#   Solver Information\n",
      "# ----------------------------------------------------------\n",
      "Solver: \n",
      "- Status: ok\n",
      "  Message: Ipopt 3.11.1\\x3a Optimal Solution Found\n",
      "  Termination condition: optimal\n",
      "  Id: 0\n",
      "  Error rc: 0\n",
      "  Time: 0.027632713317871094\n",
      "# ----------------------------------------------------------\n",
      "#   Solution Information\n",
      "# ----------------------------------------------------------\n",
      "Solution: \n",
      "- number of solutions: 0\n",
      "  number of solutions displayed: 0\n"
     ]
    }
   ],
   "source": [
    "results.write()"
   ]
  },
  {
   "cell_type": "code",
   "execution_count": null,
   "metadata": {},
   "outputs": [],
   "source": []
  }
 ],
 "metadata": {
  "kernelspec": {
   "display_name": "Python 3",
   "language": "python",
   "name": "python3"
  },
  "language_info": {
   "codemirror_mode": {
    "name": "ipython",
    "version": 3
   },
   "file_extension": ".py",
   "mimetype": "text/x-python",
   "name": "python",
   "nbconvert_exporter": "python",
   "pygments_lexer": "ipython3",
   "version": "3.8.3"
  }
 },
 "nbformat": 4,
 "nbformat_minor": 4
}
