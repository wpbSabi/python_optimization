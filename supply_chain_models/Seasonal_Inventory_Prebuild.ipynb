{
 "cells": [
  {
   "cell_type": "markdown",
   "metadata": {},
   "source": [
    "# <center>Basic Model for Seasonal Inventory Prebuild using Optimization</center>\n",
    "\n",
    "<center>Sabi Horvat, January 2021</center>\n",
    "\n",
    "Manufacturing facilities may not have the capacity to produce seasonal products within that season. Even if the facilities can surge capacity to meet demand, that may result in additional overhead costs, including nonlinear overtime pay.  The cost of storing prebuilt product in inventory may be less than this added cost.  \n",
    "\n",
    "When taking the prebuild approach, there's a few questions to answer:\n",
    "* What is the quantity of the product to prebuild into inventory before the season starts?\n",
    "* Assuming the prebuilt inventory will build up over time with a smoothed production plan, when does manufacturing need to start for the prebuild? \n",
    "\n",
    "Although, the simplified model could be worked out with pen and paper, this model provides the scalable framework to build upon for multiple products amid competing capacity constraints.  \n",
    "\n",
    "And here's additional python formulations of multi-period production schedules that you might find helpful: \n",
    "* [Ehsan Khodabandeh's tutorial on Medium](https://medium.com/@ehsankhoda/tutorial-a-simple-framework-for-optimization-programming-in-python-using-pulp-and-gurobi-1e73e76532f2)\n",
    "* [Ben Keen on Github](https://github.com/benalexkeen/Introduction-to-linear-programming/blob/master/Introduction%20to%20Linear%20Programming%20with%20Python%20-%20Part%205.ipynb)\n",
    "\n",
    "---\n",
    "## Python Model"
   ]
  },
  {
   "cell_type": "code",
   "execution_count": 1,
   "metadata": {},
   "outputs": [],
   "source": [
    "import pandas as pd\n",
    "from pulp import *"
   ]
  },
  {
   "cell_type": "code",
   "execution_count": 2,
   "metadata": {},
   "outputs": [],
   "source": [
    "# data for one product\n",
    "Max_Capacity = { 1: 20000, 2: 20000, 3: 20000, 4: 20000 } # assuming stable capacity\n",
    "Demand = {1: 10000, 2: 12000, 3: 25000, 4: 22000,}\n",
    "Variable_Cost = {1:10, 2:10, 3:10, 4:10} # not accounting for overtime with capacity increase in this simplified model\n",
    "Months = [1,2,3,4]\n",
    "Initial_Inventory = 1000"
   ]
  },
  {
   "cell_type": "code",
   "execution_count": 3,
   "metadata": {},
   "outputs": [],
   "source": [
    "# create model\n",
    "model = LpProblem(name=\"scheduling_problem\", sense=LpMinimize)\n",
    "\n",
    "# decision variables\n",
    "x = LpVariable.dicts(\"produced\",Months,lowBound=0, cat='integer')\n",
    "\n",
    "# other variables\n",
    "b = LpVariable.dicts(\"beginning_inventory\",Months,lowBound=0, cat='integer')\n",
    "e = LpVariable.dicts(\"ending_inventory\",Months,lowBound=0, cat='integer')\n",
    "\n",
    "# Add the objective function to the model\n",
    "model += lpSum(Variable_Cost[m]*x[m] for m in Months)\n",
    "\n",
    "# Add the constraints to the model\n",
    "\n",
    "# initial month constraints\n",
    "model += b[1] == Initial_Inventory, \"Beginning_inventory_initial\"\n",
    "model += Initial_Inventory + x[1] >= Demand[1] + e[1], \"Demand_initial: \" \n",
    "model += x[1] <= Max_Capacity[1], \"Capacity_initial: \" \n",
    "\n",
    "# constraints for months after the initial month\n",
    "for m in Months[1:]:\n",
    "    model += b[m] == e[m-1]\n",
    "    model += b[m] + x[m] >= Demand[m] + e[m], \"Demand: \" + str(m)\n",
    "    model += x[m] <= Max_Capacity[m], \"Capacity: \" + str(m)\n",
    "\n",
    "# production smoothing, lessens production changes from one period to the next \n",
    "for m in Months[1:]:\n",
    "    model += x[m] >= 0.8*x[m-1]\n",
    "    model += x[m-1] >= 0.8*x[m]\n",
    "    \n",
    "# Solve the problem\n",
    "status = model.solve()"
   ]
  },
  {
   "cell_type": "code",
   "execution_count": 4,
   "metadata": {
    "scrolled": true
   },
   "outputs": [
    {
     "name": "stdout",
     "output_type": "stream",
     "text": [
      "status: 1, Optimal\n",
      "objective: 680000.0\n",
      "beginning_inventory_1: 1000.0\n",
      "beginning_inventory_2: 11000.0\n",
      "beginning_inventory_3: 15000.0\n",
      "beginning_inventory_4: 4222.2222\n",
      "ending_inventory_1: 11000.0\n",
      "ending_inventory_2: 15000.0\n",
      "ending_inventory_3: 4222.2222\n",
      "ending_inventory_4: 0.0\n",
      "produced_1: 20000.0\n",
      "produced_2: 16000.0\n",
      "produced_3: 14222.222\n",
      "produced_4: 17777.778\n"
     ]
    }
   ],
   "source": [
    "# the \"produced\" variable is likely the most interesting outcome of this model\n",
    "print(f\"status: {model.status}, {LpStatus[model.status]}\")\n",
    "print(f\"objective: {model.objective.value()}\")\n",
    "for var in model.variables():\n",
    "    print(f\"{var.name}: {var.value()}\")"
   ]
  },
  {
   "cell_type": "code",
   "execution_count": null,
   "metadata": {},
   "outputs": [],
   "source": []
  },
  {
   "cell_type": "code",
   "execution_count": null,
   "metadata": {},
   "outputs": [],
   "source": []
  }
 ],
 "metadata": {
  "kernelspec": {
   "display_name": "Python 3",
   "language": "python",
   "name": "python3"
  },
  "language_info": {
   "codemirror_mode": {
    "name": "ipython",
    "version": 3
   },
   "file_extension": ".py",
   "mimetype": "text/x-python",
   "name": "python",
   "nbconvert_exporter": "python",
   "pygments_lexer": "ipython3",
   "version": "3.8.3"
  }
 },
 "nbformat": 4,
 "nbformat_minor": 4
}
