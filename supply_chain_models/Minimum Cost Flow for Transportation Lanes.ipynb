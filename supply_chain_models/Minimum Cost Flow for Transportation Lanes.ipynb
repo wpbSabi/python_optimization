{
 "cells": [
  {
   "cell_type": "markdown",
   "metadata": {},
   "source": [
    "# <center>Basic Model for Supply Chain Transportation Lanes Using the Minimum Cost Flow Optimization Model </center>\n",
    "\n",
    "<center>Sabi Horvat, January 2021</center>\n",
    "\n",
    "This example model is similar to components of larger projects that I worked on from 2010-2014 with Xpress-Mosel.\n",
    "\n",
    "What does this model do?  In summary, the model chooses transportation lanes from a number of options.  In practice, the data for these options is changing at least on a quarterly basis due to the following reasons.\n",
    "\n",
    "* Contracts with the suppliers that manufacture these products expire and require periodic renegotiation. \n",
    "* Transportation costs from third party logistics (3PLs) fluctuate depending on fuel prices and other costs, but also due to shifting demand and supply.  One example is when a truck delivers products to an area where there is not also product to load upon a return trip.  When the 3PL can't coordinate for the truck to be highly utilized, such as in this situation, the truck is being paid to \"deadhead\" back empty or at other times at less than a Full TruckLoad (FTL).  These cost differences account for the increase in price for the quote you receive, compared to other destinations.\n",
    "\n",
    "Additional python formulations of Minimum Cost Flow models can be found at: \n",
    "* [COIN-OR / PuLP (github) - American Steel Problem](https://github.com/coin-or/pulp/blob/master/examples/AmericanSteelProblem.py)\n",
    "* [github-alerera - MCNF Timespace Problem](https://github.com/alerera/logistics-opt-python/blob/master/pulp/mcnf_timespace.py)\n",
    "* [Gurobi-github - General Landing Page for Multiple Problems ](https://gurobi.github.io/modeling-examples/)\n",
    "\n",
    "---\n",
    "## Python Model"
   ]
  },
  {
   "cell_type": "code",
   "execution_count": 1,
   "metadata": {},
   "outputs": [],
   "source": [
    "import pandas as pd\n",
    "from pulp import *"
   ]
  },
  {
   "cell_type": "markdown",
   "metadata": {},
   "source": [
    "## Data"
   ]
  },
  {
   "cell_type": "code",
   "execution_count": 2,
   "metadata": {},
   "outputs": [],
   "source": [
    "# This data has been aggregated for period of time\n",
    "# The transportation lane will be effective for this projected demand, during that time\n",
    "\n",
    "# Data\n",
    "#  Suppliers at Portland, Oregon and Portland, Maine\n",
    "#  Distribution Center / Warehouse at Chicago, Illinois\n",
    "#  Customer Demand in Seattle, Miama, Dallas, and San Diego\n",
    "\n",
    "locations = ['Portland_OR','Portland_ME','Chicago_IL','Seattle_WA',\n",
    "            'Miama_FL','Dallas_TX','SanDiego_CA']\n",
    "\n",
    "supply_and_demand = {'Portland_OR':[100,0],\n",
    "                     'Portland_ME':[100,0],\n",
    "                     'Chicago_IL' :[0,50],\n",
    "                     'Seattle_WA' :[0,40],\n",
    "                     'Miama_FL'   :[0,30],\n",
    "                     'Dallas_TX'  :[0,50],\n",
    "                     'SanDiego_CA':[0,30]}\n",
    "(supply, demand) = splitDict(supply_and_demand)\n",
    "\n",
    "route_arcs = [   ('Portland_OR','Portland_OR'),\n",
    "                 ('Portland_OR','Chicago_IL'),\n",
    "                 ('Portland_OR','Seattle_WA'),\n",
    "                 ('Portland_OR','Miama_FL'),\n",
    "                 ('Portland_OR','Dallas_TX'),\n",
    "                 ('Portland_OR','SanDiego_CA'),\n",
    "                 ('Portland_ME','Portland_ME'),\n",
    "                 ('Portland_ME','Chicago_IL'),\n",
    "                 ('Portland_ME','Seattle_WA'),\n",
    "                 ('Portland_ME','Miama_FL'),\n",
    "                 ('Portland_ME','Dallas_TX'),\n",
    "                 ('Portland_ME','SanDiego_CA'),\n",
    "                 ('Chicago_IL','Seattle_WA'),\n",
    "                 ('Chicago_IL','Miama_FL'),\n",
    "                 ('Chicago_IL','Dallas_TX'),\n",
    "                 ('Chicago_IL','SanDiego_CA')   ]\n",
    "\n",
    "# cost per unit (variable per unit, fixed for utilizing lane)\n",
    "route_cost = {   ('Portland_OR','Portland_OR'):[0,0],\n",
    "                 ('Portland_OR','Chicago_IL'): [0.5,0],\n",
    "                 ('Portland_OR','Seattle_WA'): [0.1,100],\n",
    "                 ('Portland_OR','Miama_FL'):   [0.9,100],\n",
    "                 ('Portland_OR','Dallas_TX'):  [0.5,100],\n",
    "                 ('Portland_OR','SanDiego_CA'):[0.2,100],\n",
    "                 ('Portland_ME','Portland_ME'):[0,0],\n",
    "                 ('Portland_ME','Chicago_IL'): [0.4,100],\n",
    "                 ('Portland_ME','Seattle_WA'): [0.9,100],\n",
    "                 ('Portland_ME','Miama_FL'):   [0.3,100],\n",
    "                 ('Portland_ME','Dallas_TX'):  [0.6,100],\n",
    "                 ('Portland_ME','SanDiego_CA'):[0.9,100],\n",
    "                 ('Chicago_IL','Seattle_WA'):  [0.5,0],\n",
    "                 ('Chicago_IL','Miama_FL'):    [0.2,0],\n",
    "                 ('Chicago_IL','Dallas_TX'):   [0.3,0],\n",
    "                 ('Chicago_IL','SanDiego_CA'): [0.5,0]   }\n",
    "(variable_costs, fixed_cost) = splitDict(route_cost)"
   ]
  },
  {
   "cell_type": "markdown",
   "metadata": {},
   "source": [
    "## Model"
   ]
  },
  {
   "cell_type": "code",
   "execution_count": 3,
   "metadata": {},
   "outputs": [],
   "source": [
    "# Decision Variables\n",
    "flow = LpVariable.dicts(\"Route\",route_arcs,lowBound=0,upBound=100,cat=\"Integer\")\n",
    "\n",
    "# Model, to minimize the objective function\n",
    "model = LpProblem(\"Minimum_Cost_Flow_Problem_Sample\",LpMinimize)\n",
    "\n",
    "# Creates the objective function, product cost is not included in this simplified model\n",
    "model += lpSum([flow[a]* variable_costs[a] for a in route_arcs]), \"Transportation Cost \"\n",
    "\n",
    "# Constraint: Supply the demand\n",
    "for l in locations:\n",
    "    model += (supply[l]+ lpSum([flow[(i,j)] for (i,j) in route_arcs if j == l]) >=\n",
    "             demand[l]+ lpSum([flow[(i,j)] for (i,j) in route_arcs if i == l])), \"Flow %s\"%l\n"
   ]
  },
  {
   "cell_type": "markdown",
   "metadata": {},
   "source": [
    "## Results"
   ]
  },
  {
   "cell_type": "code",
   "execution_count": 4,
   "metadata": {},
   "outputs": [
    {
     "name": "stdout",
     "output_type": "stream",
     "text": [
      "Status: Optimal\n",
      "Route_('Chicago_IL',_'Dallas_TX') = 0.0\n",
      "Route_('Chicago_IL',_'Miama_FL') = 0.0\n",
      "Route_('Chicago_IL',_'SanDiego_CA') = 0.0\n",
      "Route_('Chicago_IL',_'Seattle_WA') = 0.0\n",
      "Route_('Portland_ME',_'Chicago_IL') = 50.0\n",
      "Route_('Portland_ME',_'Dallas_TX') = 20.0\n",
      "Route_('Portland_ME',_'Miama_FL') = 30.0\n",
      "Route_('Portland_ME',_'Portland_ME') = 0.0\n",
      "Route_('Portland_ME',_'SanDiego_CA') = 0.0\n",
      "Route_('Portland_ME',_'Seattle_WA') = 0.0\n",
      "Route_('Portland_OR',_'Chicago_IL') = 0.0\n",
      "Route_('Portland_OR',_'Dallas_TX') = 30.0\n",
      "Route_('Portland_OR',_'Miama_FL') = 0.0\n",
      "Route_('Portland_OR',_'Portland_OR') = 0.0\n",
      "Route_('Portland_OR',_'SanDiego_CA') = 30.0\n",
      "Route_('Portland_OR',_'Seattle_WA') = 40.0\n",
      "Total Cost =  66.0\n"
     ]
    }
   ],
   "source": [
    "# Solve the model\n",
    "model.solve()\n",
    "\n",
    "# The status of the solution (Optimal, Infeasible, Unbounded, Not Solved, or Undefined)\n",
    "print(\"Status:\", LpStatus[model.status])\n",
    "\n",
    "# The objective solution\n",
    "for v in model.variables():\n",
    "    print(v.name, \"=\", v.varValue)\n",
    "\n",
    "# The optimal objective function value \n",
    "print(\"Total Cost = \", value(model.objective))"
   ]
  },
  {
   "cell_type": "code",
   "execution_count": null,
   "metadata": {},
   "outputs": [],
   "source": []
  }
 ],
 "metadata": {
  "kernelspec": {
   "display_name": "Python 3",
   "language": "python",
   "name": "python3"
  },
  "language_info": {
   "codemirror_mode": {
    "name": "ipython",
    "version": 3
   },
   "file_extension": ".py",
   "mimetype": "text/x-python",
   "name": "python",
   "nbconvert_exporter": "python",
   "pygments_lexer": "ipython3",
   "version": "3.8.3"
  }
 },
 "nbformat": 4,
 "nbformat_minor": 2
}
