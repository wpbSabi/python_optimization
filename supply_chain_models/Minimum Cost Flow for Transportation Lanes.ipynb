{
 "cells": [
  {
   "cell_type": "markdown",
   "metadata": {},
   "source": [
    "# <center>Basic Model for Supply Chain Transportation Lanes Using the Minimum Cost Flow Optimization Model </center>\n",
    "\n",
    "<center>Sabi Horvat, January 2021</center>\n",
    "\n",
    "This example model is similar to components of larger projects that I worked on from 2010-2014 with Xpress-Mosel.\n",
    "\n",
    "What does this model do?  In summary, the model chooses transportation lanes from a number of options.  In practice, the data for these options is changing at least on a quarterly basis due to the following reasons.\n",
    "\n",
    "* Contracts with the suppliers that manufacture these products expire and require periodic renegotiation. \n",
    "* Transportation costs from third party logistics (3PLs) fluctuate depending on fuel prices and other costs, but also due to shifting demand and supply.  One example is when a truck delivers products to an area where there is not also product to load upon a return trip.  When the 3PL can't coordinate for the truck to be highly utilized, such as in this situation, the truck is being paid to \"deadhead\" back empty or at other times at less than a Full TruckLoad (FTL).  These cost differences account for the increase in price for the quote you receive, compared to other destinations.\n",
    "\n",
    "Additional python formulations of Minimum Cost Flow models can be found at: \n",
    "* [COIN-OR / PuLP (github) - American Steel Problem](https://github.com/coin-or/pulp/blob/master/examples/AmericanSteelProblem.py)\n",
    "* [github-alerera - MCNF Timespace Problem](https://github.com/alerera/logistics-opt-python/blob/master/pulp/mcnf_timespace.py)\n",
    "* [Gurobi-github - General Landing Page for Multiple Problems ](https://gurobi.github.io/modeling-examples/)\n",
    "\n",
    "---\n",
    "## Python Model"
   ]
  },
  {
   "cell_type": "code",
   "execution_count": 2,
   "metadata": {},
   "outputs": [],
   "source": [
    "import pandas as pd\n",
    "from pulp import *"
   ]
  },
  {
   "cell_type": "markdown",
   "metadata": {},
   "source": [
    "## Data"
   ]
  },
  {
   "cell_type": "code",
   "execution_count": 3,
   "metadata": {},
   "outputs": [],
   "source": [
    "# This data has been aggregated for period of time\n",
    "# The transportation lane will be effective for this projected demand, during that time\n",
    "\n",
    "# Data\n",
    "#  Suppliers at Portland, Oregon and Portland, Maine\n",
    "#  Distribution Center / Warehouse at Chicago, Illinois\n",
    "#  Customer Demand in Seattle, Miami, Dallas, and San Diego\n",
    "\n",
    "locations = ['Portland,OR','Portland,ME','Chicago,IL','Seattle,WA',\n",
    "            'Miami,FL','Dallas,TX','SanDiego,CA']\n",
    "\n",
    "supply_and_demand = {'Portland,OR':[100,0],\n",
    "                     'Portland,ME':[100,0],\n",
    "                     'Chicago,IL' :[0,50],\n",
    "                     'Seattle,WA' :[0,40],\n",
    "                     'Miami,FL'   :[0,30],\n",
    "                     'Dallas,TX'  :[0,50],\n",
    "                     'SanDiego,CA':[0,30]}\n",
    "(supply, demand) = splitDict(supply_and_demand)\n",
    "\n",
    "route_arcs = [   ('Portland,OR','Portland,OR'),\n",
    "                 ('Portland,OR','Chicago,IL'),\n",
    "                 ('Portland,OR','Seattle,WA'),\n",
    "                 ('Portland,OR','Miami,FL'),\n",
    "                 ('Portland,OR','Dallas,TX'),\n",
    "                 ('Portland,OR','SanDiego,CA'),\n",
    "                 ('Portland,ME','Portland,ME'),\n",
    "                 ('Portland,ME','Chicago,IL'),\n",
    "                 ('Portland,ME','Seattle,WA'),\n",
    "                 ('Portland,ME','Miami,FL'),\n",
    "                 ('Portland,ME','Dallas,TX'),\n",
    "                 ('Portland,ME','SanDiego,CA'),\n",
    "                 ('Chicago,IL','Seattle,WA'),\n",
    "                 ('Chicago,IL','Miami,FL'),\n",
    "                 ('Chicago,IL','Dallas,TX'),\n",
    "                 ('Chicago,IL','SanDiego,CA')   ]\n",
    "\n",
    "# cost per unit (variable per unit, fixed for utilizing lane)\n",
    "route_cost = {   ('Portland,OR','Portland,OR'):[0,0],\n",
    "                 ('Portland,OR','Chicago,IL'): [0.5,0],\n",
    "                 ('Portland,OR','Seattle,WA'): [0.1,100],\n",
    "                 ('Portland,OR','Miami,FL'):   [0.9,100],\n",
    "                 ('Portland,OR','Dallas,TX'):  [0.5,100],\n",
    "                 ('Portland,OR','SanDiego,CA'):[0.2,100],\n",
    "                 ('Portland,ME','Portland,ME'):[0,0],\n",
    "                 ('Portland,ME','Chicago,IL'): [0.4,100],\n",
    "                 ('Portland,ME','Seattle,WA'): [0.9,100],\n",
    "                 ('Portland,ME','Miami,FL'):   [0.3,100],\n",
    "                 ('Portland,ME','Dallas,TX'):  [0.6,100],\n",
    "                 ('Portland,ME','SanDiego,CA'):[0.9,100],\n",
    "                 ('Chicago,IL','Seattle,WA'):  [0.5,0],\n",
    "                 ('Chicago,IL','Miami,FL'):    [0.2,0],\n",
    "                 ('Chicago,IL','Dallas,TX'):   [0.3,0],\n",
    "                 ('Chicago,IL','SanDiego,CA'): [0.5,0]   }\n",
    "(variable_costs, fixed_cost) = splitDict(route_cost)"
   ]
  },
  {
   "cell_type": "markdown",
   "metadata": {},
   "source": [
    "## Model"
   ]
  },
  {
   "cell_type": "code",
   "execution_count": 4,
   "metadata": {},
   "outputs": [],
   "source": [
    "# Decision Variables\n",
    "flow = LpVariable.dicts(\"Route\",route_arcs,lowBound=0,upBound=100,cat=\"Integer\")\n",
    "\n",
    "# Model, to minimize the objective function\n",
    "model = LpProblem(\"Minimum_Cost_Flow_Problem_Sample\",LpMinimize)\n",
    "\n",
    "# Creates the objective function, product cost is not included in this simplified model\n",
    "model += lpSum([flow[a]* variable_costs[a] for a in route_arcs]), \"Transportation Cost \"\n",
    "\n",
    "# Constraint: Supply the demand\n",
    "for l in locations:\n",
    "    model += (supply[l]+ lpSum([flow[(i,j)] for (i,j) in route_arcs if j == l]) >=\n",
    "             demand[l]+ lpSum([flow[(i,j)] for (i,j) in route_arcs if i == l])), \"Flow %s\"%l\n"
   ]
  },
  {
   "cell_type": "markdown",
   "metadata": {},
   "source": [
    "## Results"
   ]
  },
  {
   "cell_type": "code",
   "execution_count": 6,
   "metadata": {},
   "outputs": [
    {
     "name": "stdout",
     "output_type": "stream",
     "text": [
      "Status: Optimal\n",
      "\n",
      "Total Cost =  66.0\n"
     ]
    }
   ],
   "source": [
    "# Solve the model\n",
    "model.solve()\n",
    "\n",
    "# The status of the solution (Optimal, Infeasible, Unbounded, Not Solved, or Undefined)\n",
    "print(\"Status:\", LpStatus[model.status])\n",
    "\n",
    "# The objective solution\n",
    "# for v in model.variables():\n",
    "#     print(v.name, \"=\", v.varValue)\n",
    "\n",
    "# The optimal objective function value \n",
    "print(\"\\nTotal Cost = \", value(model.objective))"
   ]
  },
  {
   "cell_type": "code",
   "execution_count": 7,
   "metadata": {},
   "outputs": [
    {
     "data": {
      "text/html": [
       "<div>\n",
       "<style scoped>\n",
       "    .dataframe tbody tr th:only-of-type {\n",
       "        vertical-align: middle;\n",
       "    }\n",
       "\n",
       "    .dataframe tbody tr th {\n",
       "        vertical-align: top;\n",
       "    }\n",
       "\n",
       "    .dataframe thead th {\n",
       "        text-align: right;\n",
       "    }\n",
       "</style>\n",
       "<table border=\"1\" class=\"dataframe\">\n",
       "  <thead>\n",
       "    <tr style=\"text-align: right;\">\n",
       "      <th></th>\n",
       "      <th>origin</th>\n",
       "      <th>destination</th>\n",
       "      <th>flow</th>\n",
       "    </tr>\n",
       "  </thead>\n",
       "  <tbody>\n",
       "    <tr>\n",
       "      <th>4</th>\n",
       "      <td>PortlandME</td>\n",
       "      <td>ChicagoIL</td>\n",
       "      <td>50.0</td>\n",
       "    </tr>\n",
       "    <tr>\n",
       "      <th>5</th>\n",
       "      <td>PortlandME</td>\n",
       "      <td>DallasTX</td>\n",
       "      <td>20.0</td>\n",
       "    </tr>\n",
       "    <tr>\n",
       "      <th>6</th>\n",
       "      <td>PortlandME</td>\n",
       "      <td>MiamiFL</td>\n",
       "      <td>30.0</td>\n",
       "    </tr>\n",
       "    <tr>\n",
       "      <th>11</th>\n",
       "      <td>PortlandOR</td>\n",
       "      <td>DallasTX</td>\n",
       "      <td>30.0</td>\n",
       "    </tr>\n",
       "    <tr>\n",
       "      <th>14</th>\n",
       "      <td>PortlandOR</td>\n",
       "      <td>SanDiegoCA</td>\n",
       "      <td>30.0</td>\n",
       "    </tr>\n",
       "    <tr>\n",
       "      <th>15</th>\n",
       "      <td>PortlandOR</td>\n",
       "      <td>SeattleWA</td>\n",
       "      <td>40.0</td>\n",
       "    </tr>\n",
       "  </tbody>\n",
       "</table>\n",
       "</div>"
      ],
      "text/plain": [
       "        origin destination  flow\n",
       "4   PortlandME   ChicagoIL  50.0\n",
       "5   PortlandME    DallasTX  20.0\n",
       "6   PortlandME     MiamiFL  30.0\n",
       "11  PortlandOR    DallasTX  30.0\n",
       "14  PortlandOR  SanDiegoCA  30.0\n",
       "15  PortlandOR   SeattleWA  40.0"
      ]
     },
     "execution_count": 7,
     "metadata": {},
     "output_type": "execute_result"
    }
   ],
   "source": [
    "# Objective Solution\n",
    "result_value = []\n",
    "for v in model.variables():\n",
    "    result_value.append(v.varValue)\n",
    "\n",
    "result_arc = []\n",
    "for v in model.variables():\n",
    "    result_arc.append(v.name)\n",
    "\n",
    "result_od = pd.DataFrame(result_arc, columns=['result_string'])\n",
    "result_od['result_string'] = result_od['result_string'].str.replace('Route_','')\n",
    "result_od['result_string'] = result_od['result_string'].str.replace('[^\\w\\s]','', regex=True)\n",
    "result_od[['origin','destination']] = result_od['result_string'].str.split('_',1, expand=True)\n",
    "result_od['flow'] = result_value\n",
    "result_od = result_od.drop(['result_string'], axis=1)[result_od['flow'] > 0]\n",
    "result_od"
   ]
  },
  {
   "cell_type": "code",
   "execution_count": null,
   "metadata": {},
   "outputs": [],
   "source": []
  }
 ],
 "metadata": {
  "kernelspec": {
   "display_name": "Python 3",
   "language": "python",
   "name": "python3"
  },
  "language_info": {
   "codemirror_mode": {
    "name": "ipython",
    "version": 3
   },
   "file_extension": ".py",
   "mimetype": "text/x-python",
   "name": "python",
   "nbconvert_exporter": "python",
   "pygments_lexer": "ipython3",
   "version": "3.8.3"
  }
 },
 "nbformat": 4,
 "nbformat_minor": 2
}
